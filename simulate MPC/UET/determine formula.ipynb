{
 "cells": [
  {
   "cell_type": "code",
   "execution_count": 15,
   "metadata": {},
   "outputs": [],
   "source": [
    "import matplotlib.pyplot as plt\n",
    "from matplotlib.pyplot import figure\n",
    "import pandas as pd\n",
    "from pandas.plotting import scatter_matrix\n",
    "import math\n",
    "from sklearn.preprocessing import MinMaxScaler\n",
    "import numpy as np"
   ]
  },
  {
   "cell_type": "code",
   "execution_count": 10,
   "metadata": {},
   "outputs": [],
   "source": [
    "data = pd.read_csv('data_use.csv')"
   ]
  },
  {
   "cell_type": "code",
   "execution_count": 11,
   "metadata": {},
   "outputs": [],
   "source": [
    "data = data.drop(columns='Unnamed: 0')"
   ]
  },
  {
   "cell_type": "code",
   "execution_count": 12,
   "metadata": {},
   "outputs": [
    {
     "data": {
      "text/html": [
       "<div>\n",
       "<style scoped>\n",
       "    .dataframe tbody tr th:only-of-type {\n",
       "        vertical-align: middle;\n",
       "    }\n",
       "\n",
       "    .dataframe tbody tr th {\n",
       "        vertical-align: top;\n",
       "    }\n",
       "\n",
       "    .dataframe thead th {\n",
       "        text-align: right;\n",
       "    }\n",
       "</style>\n",
       "<table border=\"1\" class=\"dataframe\">\n",
       "  <thead>\n",
       "    <tr style=\"text-align: right;\">\n",
       "      <th></th>\n",
       "      <th>SoilMoisture</th>\n",
       "      <th>Humidity</th>\n",
       "      <th>Temperature</th>\n",
       "      <th>nextSoilMoisture</th>\n",
       "      <th>LightLevel</th>\n",
       "    </tr>\n",
       "  </thead>\n",
       "  <tbody>\n",
       "    <tr>\n",
       "      <th>0</th>\n",
       "      <td>61.613553</td>\n",
       "      <td>93.152592</td>\n",
       "      <td>26.332324</td>\n",
       "      <td>59.618880</td>\n",
       "      <td>603.810716</td>\n",
       "    </tr>\n",
       "    <tr>\n",
       "      <th>1</th>\n",
       "      <td>61.601310</td>\n",
       "      <td>93.137817</td>\n",
       "      <td>26.340014</td>\n",
       "      <td>59.611024</td>\n",
       "      <td>610.871730</td>\n",
       "    </tr>\n",
       "    <tr>\n",
       "      <th>2</th>\n",
       "      <td>61.589068</td>\n",
       "      <td>93.123043</td>\n",
       "      <td>26.347704</td>\n",
       "      <td>59.601878</td>\n",
       "      <td>617.932743</td>\n",
       "    </tr>\n",
       "    <tr>\n",
       "      <th>3</th>\n",
       "      <td>61.576826</td>\n",
       "      <td>93.108268</td>\n",
       "      <td>26.355394</td>\n",
       "      <td>59.594022</td>\n",
       "      <td>624.993757</td>\n",
       "    </tr>\n",
       "    <tr>\n",
       "      <th>4</th>\n",
       "      <td>61.564583</td>\n",
       "      <td>93.093493</td>\n",
       "      <td>26.363084</td>\n",
       "      <td>59.584876</td>\n",
       "      <td>632.054770</td>\n",
       "    </tr>\n",
       "    <tr>\n",
       "      <th>...</th>\n",
       "      <td>...</td>\n",
       "      <td>...</td>\n",
       "      <td>...</td>\n",
       "      <td>...</td>\n",
       "      <td>...</td>\n",
       "    </tr>\n",
       "    <tr>\n",
       "      <th>15173</th>\n",
       "      <td>74.156512</td>\n",
       "      <td>90.649505</td>\n",
       "      <td>27.922772</td>\n",
       "      <td>73.200209</td>\n",
       "      <td>214.623762</td>\n",
       "    </tr>\n",
       "    <tr>\n",
       "      <th>15174</th>\n",
       "      <td>74.162626</td>\n",
       "      <td>90.620792</td>\n",
       "      <td>27.936634</td>\n",
       "      <td>73.199329</td>\n",
       "      <td>215.475248</td>\n",
       "    </tr>\n",
       "    <tr>\n",
       "      <th>15175</th>\n",
       "      <td>74.162626</td>\n",
       "      <td>90.594059</td>\n",
       "      <td>27.950495</td>\n",
       "      <td>73.198450</td>\n",
       "      <td>216.693069</td>\n",
       "    </tr>\n",
       "    <tr>\n",
       "      <th>15176</th>\n",
       "      <td>74.158539</td>\n",
       "      <td>90.568317</td>\n",
       "      <td>27.964356</td>\n",
       "      <td>73.197570</td>\n",
       "      <td>218.712871</td>\n",
       "    </tr>\n",
       "    <tr>\n",
       "      <th>15177</th>\n",
       "      <td>74.158539</td>\n",
       "      <td>90.540594</td>\n",
       "      <td>27.978218</td>\n",
       "      <td>73.196690</td>\n",
       "      <td>220.207921</td>\n",
       "    </tr>\n",
       "  </tbody>\n",
       "</table>\n",
       "<p>15178 rows × 5 columns</p>\n",
       "</div>"
      ],
      "text/plain": [
       "       SoilMoisture   Humidity  Temperature  nextSoilMoisture  LightLevel\n",
       "0         61.613553  93.152592    26.332324         59.618880  603.810716\n",
       "1         61.601310  93.137817    26.340014         59.611024  610.871730\n",
       "2         61.589068  93.123043    26.347704         59.601878  617.932743\n",
       "3         61.576826  93.108268    26.355394         59.594022  624.993757\n",
       "4         61.564583  93.093493    26.363084         59.584876  632.054770\n",
       "...             ...        ...          ...               ...         ...\n",
       "15173     74.156512  90.649505    27.922772         73.200209  214.623762\n",
       "15174     74.162626  90.620792    27.936634         73.199329  215.475248\n",
       "15175     74.162626  90.594059    27.950495         73.198450  216.693069\n",
       "15176     74.158539  90.568317    27.964356         73.197570  218.712871\n",
       "15177     74.158539  90.540594    27.978218         73.196690  220.207921\n",
       "\n",
       "[15178 rows x 5 columns]"
      ]
     },
     "execution_count": 12,
     "metadata": {},
     "output_type": "execute_result"
    }
   ],
   "source": [
    "data"
   ]
  },
  {
   "cell_type": "code",
   "execution_count": 27,
   "metadata": {},
   "outputs": [
    {
     "data": {
      "text/plain": [
       "[<matplotlib.lines.Line2D at 0x7f7da79eba90>]"
      ]
     },
     "execution_count": 27,
     "metadata": {},
     "output_type": "execute_result"
    },
    {
     "data": {
      "image/png": "[encoded data removed]",
      "text/plain": [
       "<Figure size 432x288 with 1 Axes>"
      ]
     },
     "metadata": {},
     "output_type": "display_data"
    }
   ],
   "source": [
    "plt.plot(data.Temperature,data.nextSoilMoisture)"
   ]
  }
 ],
 "metadata": {
  "kernelspec": {
   "display_name": "Python 3",
   "language": "python",
   "name": "python3"
  },
  "language_info": {
   "codemirror_mode": {
    "name": "ipython",
    "version": 3
   },
   "file_extension": ".py",
   "mimetype": "text/x-python",
   "name": "python",
   "nbconvert_exporter": "python",
   "pygments_lexer": "ipython3",
   "version": "3.6.9"
  }
 },
 "nbformat": 4,
 "nbformat_minor": 2
}
