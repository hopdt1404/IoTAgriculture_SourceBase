{
 "cells": [
  {
   "cell_type": "code",
   "execution_count": 2,
   "metadata": {},
   "outputs": [
    {
     "name": "stdout",
     "output_type": "stream",
     "text": [
      "<mysql.connector.connection.MySQLConnection object at 0x7f040b42e160>\n"
     ]
    }
   ],
   "source": [
    "import mysql.connector\n",
    "\n",
    "mydb = mysql.connector.connect(\n",
    "    host=\"sv-procon.uet.vnu.edu.vn\",\n",
    "    user=\"root\",\n",
    "    passwd=\"iotlab2018\",\n",
    "    database=\"irrigation_database\"\n",
    ")\n",
    "print(mydb)\n",
    "mycursor = mydb.cursor()\n",
    "mycursor.execute(\"select * from Sensing\")\n",
    "myresult = mycursor.fetchall()"
   ]
  },
  {
   "cell_type": "code",
   "execution_count": 3,
   "metadata": {},
   "outputs": [
    {
     "data": {
      "text/html": [
       "<div>\n",
       "<style scoped>\n",
       "    .dataframe tbody tr th:only-of-type {\n",
       "        vertical-align: middle;\n",
       "    }\n",
       "\n",
       "    .dataframe tbody tr th {\n",
       "        vertical-align: top;\n",
       "    }\n",
       "\n",
       "    .dataframe thead th {\n",
       "        text-align: right;\n",
       "    }\n",
       "</style>\n",
       "<table border=\"1\" class=\"dataframe\">\n",
       "  <thead>\n",
       "    <tr style=\"text-align: right;\">\n",
       "      <th></th>\n",
       "      <th>SensingID</th>\n",
       "      <th>DeviceID</th>\n",
       "      <th>PlotID</th>\n",
       "      <th>SoilMoisture</th>\n",
       "      <th>Humidity</th>\n",
       "      <th>Temperature</th>\n",
       "      <th>LightLevel</th>\n",
       "      <th>TimeOfMeasurement</th>\n",
       "    </tr>\n",
       "  </thead>\n",
       "  <tbody>\n",
       "    <tr>\n",
       "      <th>0</th>\n",
       "      <td>1</td>\n",
       "      <td>81604378625</td>\n",
       "      <td>1</td>\n",
       "      <td>47.4427</td>\n",
       "      <td>94.2</td>\n",
       "      <td>26.0</td>\n",
       "      <td>0</td>\n",
       "      <td>2020-04-20 01:18:41</td>\n",
       "    </tr>\n",
       "    <tr>\n",
       "      <th>1</th>\n",
       "      <td>2</td>\n",
       "      <td>81604378625</td>\n",
       "      <td>1</td>\n",
       "      <td>47.4427</td>\n",
       "      <td>94.2</td>\n",
       "      <td>25.9</td>\n",
       "      <td>0</td>\n",
       "      <td>2020-04-20 01:19:01</td>\n",
       "    </tr>\n",
       "    <tr>\n",
       "      <th>2</th>\n",
       "      <td>3</td>\n",
       "      <td>81604378625</td>\n",
       "      <td>1</td>\n",
       "      <td>47.4427</td>\n",
       "      <td>94.2</td>\n",
       "      <td>25.9</td>\n",
       "      <td>0</td>\n",
       "      <td>2020-04-20 01:19:21</td>\n",
       "    </tr>\n",
       "    <tr>\n",
       "      <th>3</th>\n",
       "      <td>4</td>\n",
       "      <td>81604378625</td>\n",
       "      <td>1</td>\n",
       "      <td>47.4427</td>\n",
       "      <td>94.2</td>\n",
       "      <td>25.9</td>\n",
       "      <td>0</td>\n",
       "      <td>2020-04-20 01:19:41</td>\n",
       "    </tr>\n",
       "    <tr>\n",
       "      <th>4</th>\n",
       "      <td>5</td>\n",
       "      <td>81604378625</td>\n",
       "      <td>1</td>\n",
       "      <td>47.4427</td>\n",
       "      <td>94.2</td>\n",
       "      <td>25.9</td>\n",
       "      <td>0</td>\n",
       "      <td>2020-04-20 01:20:01</td>\n",
       "    </tr>\n",
       "    <tr>\n",
       "      <th>...</th>\n",
       "      <td>...</td>\n",
       "      <td>...</td>\n",
       "      <td>...</td>\n",
       "      <td>...</td>\n",
       "      <td>...</td>\n",
       "      <td>...</td>\n",
       "      <td>...</td>\n",
       "      <td>...</td>\n",
       "    </tr>\n",
       "    <tr>\n",
       "      <th>21587</th>\n",
       "      <td>21691</td>\n",
       "      <td>68719476737</td>\n",
       "      <td>1</td>\n",
       "      <td>69.3299</td>\n",
       "      <td>92.8</td>\n",
       "      <td>29.9</td>\n",
       "      <td>0</td>\n",
       "      <td>2020-05-17 01:35:23</td>\n",
       "    </tr>\n",
       "    <tr>\n",
       "      <th>21588</th>\n",
       "      <td>21692</td>\n",
       "      <td>68719476737</td>\n",
       "      <td>1</td>\n",
       "      <td>68.6224</td>\n",
       "      <td>92.8</td>\n",
       "      <td>29.9</td>\n",
       "      <td>0</td>\n",
       "      <td>2020-05-17 01:35:43</td>\n",
       "    </tr>\n",
       "    <tr>\n",
       "      <th>21589</th>\n",
       "      <td>21693</td>\n",
       "      <td>68719476737</td>\n",
       "      <td>1</td>\n",
       "      <td>69.3299</td>\n",
       "      <td>92.7</td>\n",
       "      <td>29.9</td>\n",
       "      <td>0</td>\n",
       "      <td>2020-05-17 01:36:03</td>\n",
       "    </tr>\n",
       "    <tr>\n",
       "      <th>21590</th>\n",
       "      <td>21694</td>\n",
       "      <td>68719476737</td>\n",
       "      <td>1</td>\n",
       "      <td>69.3299</td>\n",
       "      <td>92.7</td>\n",
       "      <td>29.9</td>\n",
       "      <td>0</td>\n",
       "      <td>2020-05-17 01:36:23</td>\n",
       "    </tr>\n",
       "    <tr>\n",
       "      <th>21591</th>\n",
       "      <td>21695</td>\n",
       "      <td>68719476737</td>\n",
       "      <td>1</td>\n",
       "      <td>69.3299</td>\n",
       "      <td>92.7</td>\n",
       "      <td>29.9</td>\n",
       "      <td>0</td>\n",
       "      <td>2020-05-17 01:36:43</td>\n",
       "    </tr>\n",
       "  </tbody>\n",
       "</table>\n",
       "<p>21592 rows × 8 columns</p>\n",
       "</div>"
      ],
      "text/plain": [
       "       SensingID     DeviceID  PlotID  SoilMoisture  Humidity  Temperature  \\\n",
       "0              1  81604378625       1       47.4427      94.2         26.0   \n",
       "1              2  81604378625       1       47.4427      94.2         25.9   \n",
       "2              3  81604378625       1       47.4427      94.2         25.9   \n",
       "3              4  81604378625       1       47.4427      94.2         25.9   \n",
       "4              5  81604378625       1       47.4427      94.2         25.9   \n",
       "...          ...          ...     ...           ...       ...          ...   \n",
       "21587      21691  68719476737       1       69.3299      92.8         29.9   \n",
       "21588      21692  68719476737       1       68.6224      92.8         29.9   \n",
       "21589      21693  68719476737       1       69.3299      92.7         29.9   \n",
       "21590      21694  68719476737       1       69.3299      92.7         29.9   \n",
       "21591      21695  68719476737       1       69.3299      92.7         29.9   \n",
       "\n",
       "       LightLevel   TimeOfMeasurement  \n",
       "0               0 2020-04-20 01:18:41  \n",
       "1               0 2020-04-20 01:19:01  \n",
       "2               0 2020-04-20 01:19:21  \n",
       "3               0 2020-04-20 01:19:41  \n",
       "4               0 2020-04-20 01:20:01  \n",
       "...           ...                 ...  \n",
       "21587           0 2020-05-17 01:35:23  \n",
       "21588           0 2020-05-17 01:35:43  \n",
       "21589           0 2020-05-17 01:36:03  \n",
       "21590           0 2020-05-17 01:36:23  \n",
       "21591           0 2020-05-17 01:36:43  \n",
       "\n",
       "[21592 rows x 8 columns]"
      ]
     },
     "execution_count": 3,
     "metadata": {},
     "output_type": "execute_result"
    }
   ],
   "source": [
    "import pandas as pd\n",
    "columns=['SensingID','DeviceID','PlotID','SoilMoisture','Humidity','Temperature','LightLevel','TimeOfMeasurement']\n",
    "data = pd.DataFrame(myresult,columns=columns)\n",
    "data"
   ]
  },
  {
   "cell_type": "code",
   "execution_count": 6,
   "metadata": {},
   "outputs": [
    {
     "data": {
      "text/plain": [
       "0        47.4427\n",
       "1        47.4427\n",
       "2        47.4427\n",
       "3        47.4427\n",
       "4        47.4427\n",
       "          ...   \n",
       "21587    69.3299\n",
       "21588    68.6224\n",
       "21589    69.3299\n",
       "21590    69.3299\n",
       "21591    69.3299\n",
       "Name: SoilMoisture, Length: 21592, dtype: float64"
      ]
     },
     "execution_count": 6,
     "metadata": {},
     "output_type": "execute_result"
    }
   ],
   "source": [
    "data.SoilMoisture"
   ]
  },
  {
   "cell_type": "code",
   "execution_count": 44,
   "metadata": {},
   "outputs": [
    {
     "data": {
      "text/plain": [
       "(array([ 105., 4851., 4960., 4067., 4608., 2043.,  714.,   17.,   18.,\n",
       "         209.]),\n",
       " array([ 42.429 ,  48.1861,  53.9432,  59.7003,  65.4574,  71.2145,\n",
       "         76.9716,  82.7287,  88.4858,  94.2429, 100.    ]),\n",
       " <a list of 10 Patch objects>)"
      ]
     },
     "execution_count": 44,
     "metadata": {},
     "output_type": "execute_result"
    },
    {
     "data": {
      "image/png": "[encoded data removed]",
      "text/plain": [
       "<Figure size 432x288 with 1 Axes>"
      ]
     },
     "metadata": {},
     "output_type": "display_data"
    }
   ],
   "source": [
    "a=(data.SoilMoisture/100)*269\n",
    "plt.hist(data.SoilMoisture)"
   ]
  },
  {
   "cell_type": "code",
   "execution_count": 41,
   "metadata": {},
   "outputs": [],
   "source": [
    "b=52206/(a**2.107)"
   ]
  },
  {
   "cell_type": "code",
   "execution_count": 42,
   "metadata": {},
   "outputs": [],
   "source": [
    "import matplotlib.pyplot as plt\n",
    "from matplotlib.pyplot import figure"
   ]
  },
  {
   "cell_type": "code",
   "execution_count": 43,
   "metadata": {},
   "outputs": [
    {
     "data": {
      "text/plain": [
       "[<matplotlib.lines.Line2D at 0x7f03f03a0400>]"
      ]
     },
     "execution_count": 43,
     "metadata": {},
     "output_type": "execute_result"
    },
    {
     "data": {
      "image/png": "[encoded data removed]",
      "text/plain": [
       "<Figure size 432x288 with 1 Axes>"
      ]
     },
     "metadata": {},
     "output_type": "display_data"
    }
   ],
   "source": [
    "plt.plot(b)\n",
    "# plt.plot(data.SoilMoisture)"
   ]
  },
  {
   "cell_type": "code",
   "execution_count": null,
   "metadata": {},
   "outputs": [],
   "source": []
  }
 ],
 "metadata": {
  "kernelspec": {
   "display_name": "Python 3",
   "language": "python",
   "name": "python3"
  },
  "language_info": {
   "codemirror_mode": {
    "name": "ipython",
    "version": 3
   },
   "file_extension": ".py",
   "mimetype": "text/x-python",
   "name": "python",
   "nbconvert_exporter": "python",
   "pygments_lexer": "ipython3",
   "version": "3.6.9"
  }
 },
 "nbformat": 4,
 "nbformat_minor": 2
}
