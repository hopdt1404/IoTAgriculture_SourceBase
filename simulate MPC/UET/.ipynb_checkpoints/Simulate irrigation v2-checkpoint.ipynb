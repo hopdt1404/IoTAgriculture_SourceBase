{
 "cells": [
  {
   "cell_type": "markdown",
   "metadata": {},
   "source": [
    "## Lấy giá trị dự báo thời tiết"
   ]
  },
  {
   "cell_type": "code",
   "execution_count": 49,
   "metadata": {},
   "outputs": [
    {
     "name": "stdout",
     "output_type": "stream",
     "text": [
      "<mysql.connector.connection.MySQLConnection object at 0x7efe5dfcd0b8>\n"
     ]
    }
   ],
   "source": [
    "import mysql.connector\n",
    "\n",
    "mydb = mysql.connector.connect(\n",
    "    host=\"sv-procon.uet.vnu.edu.vn\",\n",
    "    user=\"root\",\n",
    "    passwd=\"iotlab2018\",\n",
    "    database=\"irrigation_database\"\n",
    ")\n",
    "print(mydb)\n",
    "mycursor = mydb.cursor(buffered=True)\n",
    "\n",
    "import datetime\n",
    "datetime.time()\n",
    "class status:\n",
    "    def __init__(self,temperature,humidity):\n",
    "        self.temperature=temperature\n",
    "        self.humidity=humidity\n",
    "    def __str__(self):\n",
    "        return \"temp: %f, hum: %f\" % (self.temperature,self.humidity)\n",
    "def formatTime(dt):\n",
    "    return str(dt)\n",
    "def nextHour(dt):\n",
    "    return dt+datetime.timedelta(hours=1)\n",
    "def getWeatherForecastAtATimeByTime(dt):\n",
    "    mydb = mysql.connector.connect(\n",
    "    host=\"sv-procon.uet.vnu.edu.vn\",\n",
    "    user=\"root\",\n",
    "    passwd=\"iotlab2018\",\n",
    "    database=\"irrigation_database\")\n",
    "    mycursor = mydb.cursor(buffered=True)\n",
    "    print(\"querry %s\"%str(dt))\n",
    "    mycursor.execute(\"select WeatherForecastID from WeatherForecasts where CurrentTime = '%s'\" %str(dt))\n",
    "    wfid = mycursor.fetchone()\n",
    "#     print(wfid)\n",
    "    mycursor.execute(\"select Temperature, RelativeHumidity from WeatherForecastAtATimes where WeatherForecastID=%d\" %wfid)\n",
    "    ret = []\n",
    "    result = mycursor.fetchall()\n",
    "#     print(result)\n",
    "    for i in range(len(result)):\n",
    "        temp = status(result[i][0],result[i][1])\n",
    "#         print(temp)\n",
    "        ret.append(temp)\n",
    "    return ret"
   ]
  },
  {
   "cell_type": "markdown",
   "metadata": {},
   "source": [
    "## Khởi tạo 2 model cho việc nước tăng và nước giảm"
   ]
  },
  {
   "cell_type": "markdown",
   "metadata": {},
   "source": [
    "### Mô hình độ ẩm đất tăng"
   ]
  },
  {
   "cell_type": "code",
   "execution_count": 2,
   "metadata": {},
   "outputs": [],
   "source": [
    "class IncreaseModel:\n",
    "    increaseDSoilMoisture = 1.2\n",
    "    def getSoilMoisture(self,currentSM, periodTime):\n",
    "        ret = currentSM+periodTime*self.increaseDSoilMoisture\n",
    "        if ret >100:\n",
    "            return 100\n",
    "        return currentSM+periodTime*self.increaseDSoilMoisture\n",
    "    def getPeriodTime(self,currentSM, destSM):\n",
    "        if(destSM<currentSM):\n",
    "            return -1\n",
    "        return (destSM-currentSM)/self.increaseDSoilMoisture"
   ]
  },
  {
   "cell_type": "markdown",
   "metadata": {},
   "source": [
    "### Mô hình độ ẩm đất giảm"
   ]
  },
  {
   "cell_type": "code",
   "execution_count": 3,
   "metadata": {},
   "outputs": [
    {
     "name": "stderr",
     "output_type": "stream",
     "text": [
      "Using TensorFlow backend.\n"
     ]
    },
    {
     "name": "stdout",
     "output_type": "stream",
     "text": [
      "WARNING:tensorflow:From /home/caothang/Documents/ky8/learnML/learnML/lib/python3.6/site-packages/keras/backend/tensorflow_backend.py:71: The name tf.get_default_graph is deprecated. Please use tf.compat.v1.get_default_graph instead.\n",
      "\n",
      "WARNING:tensorflow:From /home/caothang/Documents/ky8/learnML/learnML/lib/python3.6/site-packages/keras/backend/tensorflow_backend.py:514: The name tf.placeholder is deprecated. Please use tf.compat.v1.placeholder instead.\n",
      "\n",
      "WARNING:tensorflow:From /home/caothang/Documents/ky8/learnML/learnML/lib/python3.6/site-packages/keras/backend/tensorflow_backend.py:4053: The name tf.random_normal is deprecated. Please use tf.random.normal instead.\n",
      "\n",
      "WARNING:tensorflow:From /home/caothang/Documents/ky8/learnML/learnML/lib/python3.6/site-packages/keras/backend/tensorflow_backend.py:130: The name tf.placeholder_with_default is deprecated. Please use tf.compat.v1.placeholder_with_default instead.\n",
      "\n",
      "WARNING:tensorflow:From /home/caothang/Documents/ky8/learnML/learnML/lib/python3.6/site-packages/keras/backend/tensorflow_backend.py:3363: calling dropout (from tensorflow.python.ops.nn_ops) with keep_prob is deprecated and will be removed in a future version.\n",
      "Instructions for updating:\n",
      "Please use `rate` instead of `keep_prob`. Rate should be set to `rate = 1 - keep_prob`.\n",
      "WARNING:tensorflow:From /home/caothang/Documents/ky8/learnML/learnML/lib/python3.6/site-packages/keras/backend/tensorflow_backend.py:4076: The name tf.random_uniform is deprecated. Please use tf.random.uniform instead.\n",
      "\n",
      "WARNING:tensorflow:From /home/caothang/Documents/ky8/learnML/learnML/lib/python3.6/site-packages/keras/optimizers.py:757: The name tf.train.Optimizer is deprecated. Please use tf.compat.v1.train.Optimizer instead.\n",
      "\n"
     ]
    }
   ],
   "source": [
    "from keras.models import load_model\n",
    "import numpy as np\n",
    "max_soilmoisture = 100\n",
    "min_soilmoisture = 0\n",
    "max_humidity = 100\n",
    "min_humidity = 0\n",
    "max_temperature = 50\n",
    "min_temperature = 10\n",
    "max_nextSoilMoisture = 100\n",
    "min_nextSoilMoisture = 0\n",
    "\n",
    "def scaleData(min_value, max_value, min_range, max_range, value):\n",
    "    return min_range+((value-min_value)*(max_range-min_range))/(max_value-min_value)\n",
    "def scaleDatas(min_value, max_value, min_range, max_range, values):\n",
    "    values_ret=[]\n",
    "    for i in range(len(values)):\n",
    "        values_ret.append(scaleData(min_value, max_value, min_range, max_range, values[i]));\n",
    "    return values_ret\n",
    "decreaseModel = load_model(\"eva_hourly.h5\")\n",
    "def nextSoilMoistureAfterAnHour(currentSoilMoisture, wfat):\n",
    "    scaleCurrentSoilMoisture=scaleData(min_soilmoisture,max_soilmoisture,0,1,currentSoilMoisture)\n",
    "    scaleTemperature = scaleData(min_temperature,max_temperature,0,1,wfat.temperature)\n",
    "    scaleHumidity = scaleData(min_humidity,max_humidity,0,1,wfat.humidity)\n",
    "    nextSoilMoisture = decreaseModel.predict(np.array([[scaleCurrentSoilMoisture, scaleHumidity, scaleTemperature]]))\n",
    "    ret = scaleData(0,1,min_soilmoisture,max_soilmoisture,nextSoilMoisture)\n",
    "    return ret"
   ]
  },
  {
   "cell_type": "markdown",
   "metadata": {},
   "source": [
    "## Giải thuật tưới MPC"
   ]
  },
  {
   "cell_type": "code",
   "execution_count": 9,
   "metadata": {},
   "outputs": [],
   "source": [
    "wateringTimeLevel = [0,1,2,3]\n",
    "increaseModel = IncreaseModel()\n",
    "lostWaterTime = 0\n",
    "minLostWaterTime = 9999999\n",
    "solution = [0,0,0,0,0,0,0,0,0,0,0,0]\n",
    "minSolution = [0,0,0,0,0,0,0,0,0,0,0,0]\n",
    "upperThreshold = 70\n",
    "lowerThreshold = 60\n",
    "def init():\n",
    "    global lostWaterTime\n",
    "    global minLostWaterTime\n",
    "    global solution\n",
    "    global minSolution\n",
    "    global upperThreshold\n",
    "    global lowerThreshold\n",
    "    lostWaterTime = 0\n",
    "    minLostWaterTime = 9999999\n",
    "    solution = [0,0,0,0,0,0,0,0,0,0,0,0]\n",
    "    minSolution = [0,0,0,0,0,0,0,0,0,0,0,0]\n",
    "    upperThreshold = 70\n",
    "    lowerThreshold = 60\n",
    "def watering(soilMoisture, lostWaterTime, periodTime):\n",
    "#     print(\"before: %f\" %currentSoilMoisture)\n",
    "    temp = increaseModel.getSoilMoisture(soilMoisture,periodTime)\n",
    "    soilMoisture=temp\n",
    "#     print(\"after: %f\" %currentSoilMoisture)\n",
    "    lostWaterTime+=periodTime\n",
    "    return soilMoisture, lostWaterTime\n",
    "def resetWatering(resetSoilMoisture, lostWaterTime, periodTime):\n",
    "    soilMoisture = resetSoilMoisture\n",
    "    lostWaterTime-=periodTime\n",
    "    return soilMoisture, lostWaterTime\n",
    "def isSatisfyCondition(soilMoisture, minLostWaterTime):\n",
    "    global lowerThreshold, upperThreshold\n",
    "    if lostWaterTime>minLostWaterTime:\n",
    "#         print(\"bad\")\n",
    "        return False\n",
    "    if soilMoisture>upperThreshold or soilMoisture<lowerThreshold:\n",
    "#         print(\"outside\")\n",
    "        return False\n",
    "    return True\n",
    "\n",
    "# tim lượng nước tưới trong 12 h tới tối ưu và k vi phạm ràng buộc\n",
    "def calWatering(soilMoisture):\n",
    "    global lostWater,lostWaterTime,minSolution,solution,wateringLevel, minLostWaterTime, minLostWater\n",
    "    if index == 12:\n",
    "        \n",
    "        if lostWaterTime < minLostWaterTime:\n",
    "            minLostWaterTime = lostWaterTime\n",
    "            minSolution = solution.copy()\n",
    "            print(\"solution: \")\n",
    "            print(minSolution)\n",
    "    else:\n",
    "        for t in wateringTimeLevel:\n",
    "#             print(\"index: %d, w: %d\"% (index,w))\n",
    "            resetSoilMoisture = soilMoisture\n",
    "#             print(\"before: %f\" %soilMoisture)\n",
    "            soilMoisture = watering(soilMoisture, t)\n",
    "            solution[index] = t\n",
    "            \n",
    "            soilMoisture=nextSoilMoistureAfterAnHour(soilMoisture,wfats[index])\n",
    "#             print(\"after: %f \" %soilMoisture)\n",
    "            if(not isSatisfyCondition(soilMoisture)):\n",
    "                soilMoisture = resetWatering(t,resetSoilMoisture)\n",
    "                continue\n",
    "            calWatering(soilMoisture, index+1)\n",
    "            soilMoisture = resetWatering(t,resetSoilMoisture)\n",
    "    \n",
    "def selectWatering(soilMoisture, startTime):\n",
    "#     print(\"select Watering - soilMoisture: %f\"%soilMoisture)\n",
    "    wfats = getWeatherForecastAtATimeByTime(startTime)\n",
    "    calWatering(soilMoisture)\n",
    "    print(minSolution)\n",
    "    return minSolution[0]\n"
   ]
  },
  {
   "cell_type": "code",
   "execution_count": 58,
   "metadata": {},
   "outputs": [
    {
     "name": "stdout",
     "output_type": "stream",
     "text": [
      "querry 2020-05-03 06:00:00\n",
      "querry 2020-05-03 07:00:00\n",
      "querry 2020-05-03 08:00:00\n",
      "querry 2020-05-03 09:00:00\n",
      "querry 2020-05-03 10:00:00\n",
      "querry 2020-05-03 11:00:00\n",
      "querry 2020-05-03 12:00:00\n",
      "querry 2020-05-03 13:00:00\n",
      "querry 2020-05-03 14:00:00\n",
      "querry 2020-05-03 15:00:00\n",
      "querry 2020-05-03 16:00:00\n",
      "querry 2020-05-03 17:00:00\n",
      "querry 2020-05-03 18:00:00\n",
      "querry 2020-05-03 19:00:00\n",
      "querry 2020-05-03 20:00:00\n",
      "querry 2020-05-03 21:00:00\n",
      "querry 2020-05-03 22:00:00\n",
      "querry 2020-05-03 23:00:00\n",
      "querry 2020-05-04 00:00:00\n",
      "querry 2020-05-04 01:00:00\n",
      "querry 2020-05-04 02:00:00\n",
      "querry 2020-05-04 03:00:00\n",
      "querry 2020-05-04 04:00:00\n",
      "querry 2020-05-04 05:00:00\n",
      "[[63.0, datetime.datetime(2020, 5, 3, 6, 0), 0], [61.90897750854492, datetime.datetime(2020, 5, 3, 7, 0), 0], [61.101661682128906, datetime.datetime(2020, 5, 3, 8, 0), 0], [60.46550369262695, datetime.datetime(2020, 5, 3, 9, 0), 0], [59.888614654541016, datetime.datetime(2020, 5, 3, 10, 0), 0], [70, datetime.datetime(2020, 5, 3, 10, 0, 8, 426154), 8.426154454549154], [68.61613464355469, datetime.datetime(2020, 5, 3, 11, 0), 0], [67.41858673095703, datetime.datetime(2020, 5, 3, 12, 0), 0], [66.31664276123047, datetime.datetime(2020, 5, 3, 13, 0), 0], [65.27294921875, datetime.datetime(2020, 5, 3, 14, 0), 0], [64.42643737792969, datetime.datetime(2020, 5, 3, 15, 0), 0], [63.662540435791016, datetime.datetime(2020, 5, 3, 16, 0), 0], [62.84916305541992, datetime.datetime(2020, 5, 3, 17, 0), 0], [62.11777877807617, datetime.datetime(2020, 5, 3, 18, 0), 0], [61.51970672607422, datetime.datetime(2020, 5, 3, 19, 0), 0], [60.519981384277344, datetime.datetime(2020, 5, 3, 20, 0), 0], [59.24549865722656, datetime.datetime(2020, 5, 3, 21, 0), 0], [70, datetime.datetime(2020, 5, 3, 21, 0, 8, 962084), 8.962084452311199], [68.61576080322266, datetime.datetime(2020, 5, 3, 22, 0), 0], [67.23392486572266, datetime.datetime(2020, 5, 3, 23, 0), 0], [65.84185028076172, datetime.datetime(2020, 5, 4, 0, 0), 0], [64.4542465209961, datetime.datetime(2020, 5, 4, 1, 0), 0], [62.74387741088867, datetime.datetime(2020, 5, 4, 2, 0), 0], [61.13871383666992, datetime.datetime(2020, 5, 4, 3, 0), 0], [59.54741668701172, datetime.datetime(2020, 5, 4, 4, 0), 0], [70, datetime.datetime(2020, 5, 4, 4, 0, 8, 710486), 8.710486094156902], [68.37117767333984, datetime.datetime(2020, 5, 4, 5, 0), 0]]\n"
     ]
    }
   ],
   "source": [
    "startTime = datetime.datetime(2020,5,3,6,0,0)\n",
    "soilMoisture = 63\n",
    "soilMoisturesAndTimes = []\n",
    "\n",
    "increaseModel = IncreaseModel()\n",
    "\n",
    "for i in range(24):\n",
    "    soilMoisture=float(soilMoisture)\n",
    "    soilMoisturesAndTimes.append([soilMoisture,startTime,0])\n",
    "    if soilMoisture<lowerThreshold:\n",
    "        t=increaseModel.getPeriodTime(currentSM=soilMoisture,destSM=upperThreshold)\n",
    "#         print(t)\n",
    "        t=float(t)\n",
    "#         print(t)\n",
    "        nextTime=startTime+datetime.timedelta(seconds=t)\n",
    "        soilMoisturesAndTimes.append([upperThreshold,nextTime,t])\n",
    "        soilMoisture=upperThreshold\n",
    "    wfats = getWeatherForecastAtATimeByTime(startTime)\n",
    "    soilMoisture=nextSoilMoistureAfterAnHour(currentSoilMoisture=soilMoisture,wfat=wfats[0])\n",
    "    startTime=nextHour(startTime)\n",
    "print(soilMoisturesAndTimes)"
   ]
  },
  {
   "cell_type": "code",
   "execution_count": 59,
   "metadata": {},
   "outputs": [
    {
     "data": {
      "text/plain": [
       "[<matplotlib.lines.Line2D at 0x7efe5dc378d0>]"
      ]
     },
     "execution_count": 59,
     "metadata": {},
     "output_type": "execute_result"
    },
    {
     "data": {
      "image/png": "[encoded data removed]",
      "text/plain": [
       "<Figure size 432x288 with 1 Axes>"
      ]
     },
     "metadata": {},
     "output_type": "display_data"
    }
   ],
   "source": [
    "import matplotlib.pyplot as plt\n",
    "temp = np.array(soilMoisturesAndTimes).transpose()\n",
    "plt.plot(temp[1],temp[0])"
   ]
  },
  {
   "cell_type": "code",
   "execution_count": 78,
   "metadata": {},
   "outputs": [
    {
     "name": "stdout",
     "output_type": "stream",
     "text": [
      "[0, 0, 0, 0, 0, 8.426154454549154, 8.426154454549154, 8.426154454549154, 8.426154454549154, 8.426154454549154, 8.426154454549154, 8.426154454549154, 8.426154454549154, 8.426154454549154, 8.426154454549154, 8.426154454549154, 8.426154454549154, 17.38823890686035, 17.38823890686035, 17.38823890686035, 17.38823890686035, 17.38823890686035, 17.38823890686035, 17.38823890686035, 17.38823890686035, 26.098725001017254, 26.098725001017254]\n"
     ]
    }
   ],
   "source": [
    "sumTime=[]\n",
    "sumTime.append(temp[2][0])\n",
    "for i in range(1,len(temp[2])):\n",
    "    sumTime.append(sumTime[i-1]+temp[2][i])\n",
    "print(sumTime)\n",
    "# print((temp[0]))"
   ]
  },
  {
   "cell_type": "code",
   "execution_count": 79,
   "metadata": {},
   "outputs": [
    {
     "data": {
      "text/plain": [
       "[<matplotlib.lines.Line2D at 0x7efe5dbd6390>]"
      ]
     },
     "execution_count": 79,
     "metadata": {},
     "output_type": "execute_result"
    },
    {
     "data": {
      "image/png": "[encoded data removed]",
      "text/plain": [
       "<Figure size 432x288 with 1 Axes>"
      ]
     },
     "metadata": {},
     "output_type": "display_data"
    }
   ],
   "source": [
    "plt.plot(sumTime)"
   ]
  },
  {
   "cell_type": "code",
   "execution_count": 85,
   "metadata": {},
   "outputs": [],
   "source": [
    "import pandas as pd\n",
    "soilMoistureFolowTimeByONOFF = pd.DataFrame(temp.transpose(),columns=['soil moisture','datetime','amount of watering'])\n",
    "soilMoistureFolowTimeByONOFF.to_csv(\"soil_moisture_on_off.csv\")"
   ]
  }
 ],
 "metadata": {
  "kernelspec": {
   "display_name": "Python 3",
   "language": "python",
   "name": "python3"
  },
  "language_info": {
   "codemirror_mode": {
    "name": "ipython",
    "version": 3
   },
   "file_extension": ".py",
   "mimetype": "text/x-python",
   "name": "python",
   "nbconvert_exporter": "python",
   "pygments_lexer": "ipython3",
   "version": "3.6.9"
  }
 },
 "nbformat": 4,
 "nbformat_minor": 2
}
