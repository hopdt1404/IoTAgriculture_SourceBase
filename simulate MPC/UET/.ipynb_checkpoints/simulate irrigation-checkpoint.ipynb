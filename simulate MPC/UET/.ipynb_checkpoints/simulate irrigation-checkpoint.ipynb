{
 "cells": [
  {
   "cell_type": "markdown",
   "metadata": {},
   "source": [
    "## Thực hiện việc mô phỏng tưới tiêu\n",
    "Giả sử :\n",
    "- model là chính xác 100%\n",
    "- dự báo thời tiết là chính xác 100%"
   ]
  },
  {
   "cell_type": "markdown",
   "metadata": {},
   "source": [
    "### Lấy giá trị dự báo thời tiết"
   ]
  },
  {
   "cell_type": "code",
   "execution_count": 1,
   "metadata": {},
   "outputs": [
    {
     "name": "stdout",
     "output_type": "stream",
     "text": [
      "<mysql.connector.connection.MySQLConnection object at 0x7f8d44533780>\n"
     ]
    }
   ],
   "source": [
    "import mysql.connector\n",
    "\n",
    "mydb = mysql.connector.connect(\n",
    "    host=\"sv-procon.uet.vnu.edu.vn\",\n",
    "    user=\"root\",\n",
    "    passwd=\"iotlab2018\",\n",
    "    database=\"irrigation_database\"\n",
    ")\n",
    "print(mydb)\n",
    "mycursor = mydb.cursor(buffered=True)\n",
    "# mycursor.execute(\"select * from WeatherForecasts\")\n",
    "# myresult = mycursor.fetchall()"
   ]
  },
  {
   "cell_type": "code",
   "execution_count": 2,
   "metadata": {},
   "outputs": [
    {
     "data": {
      "text/plain": [
       "'2020-06-03 09:48:19.809068'"
      ]
     },
     "execution_count": 2,
     "metadata": {},
     "output_type": "execute_result"
    }
   ],
   "source": [
    "import datetime\n",
    "datetime.time()\n",
    "class status:\n",
    "    def __init__(self,temperature,humidity):\n",
    "        self.temperature=temperature\n",
    "        self.humidity=humidity\n",
    "    def __str__(self):\n",
    "        return \"temp: %f, hum: %f\" % (self.temperature,self.humidity)\n",
    "def formatTime(dt):\n",
    "    return str(dt)\n",
    "def nextHour(dt):\n",
    "    return dt+datetime.timedelta(hours=1)\n",
    "def getWeatherForecastAtATimeByTime(dt):\n",
    "    mydb = mysql.connector.connect(\n",
    "    host=\"sv-procon.uet.vnu.edu.vn\",\n",
    "    user=\"root\",\n",
    "    passwd=\"iotlab2018\",\n",
    "    database=\"irrigation_database\")\n",
    "    mycursor = mydb.cursor(buffered=True)\n",
    "    mycursor.execute(\"select WeatherForecastID from WeatherForecasts where CurrentTime = '%s'\" %str(dt))\n",
    "    wfid = mycursor.fetchone()\n",
    "#     print(wfid)\n",
    "    mycursor.execute(\"select Temperature, RelativeHumidity from WeatherForecastAtATimes where WeatherForecastID=%d\" %wfid)\n",
    "    ret = []\n",
    "    result = mycursor.fetchall()\n",
    "#     print(result)\n",
    "    for i in range(len(result)):\n",
    "        temp = status(result[i][0],result[i][1])\n",
    "#         print(temp)\n",
    "        ret.append(temp)\n",
    "    return ret\n",
    "def getWeatherForecastAtATimeByString(s):\n",
    "    mycursor.execute(\"select WeatherForecastID from WeatherForecasts where CurrentTime = '%s'\" %s)\n",
    "    wfid = mycursor.fetchone()\n",
    "#     print(wfid)\n",
    "    mycursor.execute(\"select Temperature, RelativeHumidity from WeatherForecastAtATimes where WeatherForecastID=%d\" %wfid)\n",
    "    ret = []\n",
    "    result = mycursor.fetchall()\n",
    "    print(result)\n",
    "    for i in range(len(result)):\n",
    "        temp = status(result[i][0],result[i][1])\n",
    "#         print(temp)\n",
    "        ret.append(temp)\n",
    "    return ret\n",
    "a = datetime.datetime.now()\n",
    "formatTime(nextHour(a))"
   ]
  },
  {
   "cell_type": "code",
   "execution_count": 3,
   "metadata": {},
   "outputs": [
    {
     "name": "stdout",
     "output_type": "stream",
     "text": [
      "2020-05-03 13:00:00\n",
      "[(32.5, 63.0), (32.0, 63.0), (31.0, 67.0), (29.7, 75.0), (28.9, 81.0), (27.6, 87.0), (27.0, 88.0), (26.5, 86.0), (25.8, 91.0), (26.3, 89.0), (26.3, 89.0), (26.2, 90.0)]\n"
     ]
    },
    {
     "data": {
      "text/plain": [
       "32.5"
      ]
     },
     "execution_count": 3,
     "metadata": {},
     "output_type": "execute_result"
    }
   ],
   "source": [
    "startTime = datetime.datetime(2020,5,3,13,0,0)\n",
    "print(startTime)\n",
    "a=getWeatherForecastAtATimeByString(formatTime(nextHour((startTime))))\n",
    "a[0].temperature"
   ]
  },
  {
   "cell_type": "markdown",
   "metadata": {},
   "source": [
    "### Khởi tạo 2 model cho việc nước tăng và nước giảm"
   ]
  },
  {
   "cell_type": "markdown",
   "metadata": {},
   "source": [
    "#### Model tăng độ ẩm"
   ]
  },
  {
   "cell_type": "code",
   "execution_count": 10,
   "metadata": {},
   "outputs": [],
   "source": [
    "class IncreaseModel:\n",
    "    increaseDSoilMoisture = 1.2\n",
    "    def getSoilMoisture(self,currentSM, periodTime):\n",
    "        ret = currentSM+periodTime*self.increaseDSoilMoisture\n",
    "        if ret >100:\n",
    "            return 100\n",
    "        return currentSM+periodTime*self.increaseDSoilMoisture\n",
    "    def getPeriodTime(self,currentSM, destSM):\n",
    "        if(destSM<currentSM):\n",
    "            return -1\n",
    "        return (destSM-currentSM)/self.increaseDSoilMoisture"
   ]
  },
  {
   "cell_type": "markdown",
   "metadata": {},
   "source": [
    "#### Model giảm độ ẩm"
   ]
  },
  {
   "cell_type": "code",
   "execution_count": 5,
   "metadata": {},
   "outputs": [
    {
     "name": "stderr",
     "output_type": "stream",
     "text": [
      "Using TensorFlow backend.\n"
     ]
    },
    {
     "name": "stdout",
     "output_type": "stream",
     "text": [
      "WARNING:tensorflow:From /home/caothang/Documents/ky8/learnML/learnML/lib/python3.6/site-packages/keras/backend/tensorflow_backend.py:71: The name tf.get_default_graph is deprecated. Please use tf.compat.v1.get_default_graph instead.\n",
      "\n",
      "WARNING:tensorflow:From /home/caothang/Documents/ky8/learnML/learnML/lib/python3.6/site-packages/keras/backend/tensorflow_backend.py:514: The name tf.placeholder is deprecated. Please use tf.compat.v1.placeholder instead.\n",
      "\n",
      "WARNING:tensorflow:From /home/caothang/Documents/ky8/learnML/learnML/lib/python3.6/site-packages/keras/backend/tensorflow_backend.py:4053: The name tf.random_normal is deprecated. Please use tf.random.normal instead.\n",
      "\n",
      "WARNING:tensorflow:From /home/caothang/Documents/ky8/learnML/learnML/lib/python3.6/site-packages/keras/backend/tensorflow_backend.py:130: The name tf.placeholder_with_default is deprecated. Please use tf.compat.v1.placeholder_with_default instead.\n",
      "\n",
      "WARNING:tensorflow:From /home/caothang/Documents/ky8/learnML/learnML/lib/python3.6/site-packages/keras/backend/tensorflow_backend.py:3363: calling dropout (from tensorflow.python.ops.nn_ops) with keep_prob is deprecated and will be removed in a future version.\n",
      "Instructions for updating:\n",
      "Please use `rate` instead of `keep_prob`. Rate should be set to `rate = 1 - keep_prob`.\n",
      "WARNING:tensorflow:From /home/caothang/Documents/ky8/learnML/learnML/lib/python3.6/site-packages/keras/backend/tensorflow_backend.py:4076: The name tf.random_uniform is deprecated. Please use tf.random.uniform instead.\n",
      "\n",
      "WARNING:tensorflow:From /home/caothang/Documents/ky8/learnML/learnML/lib/python3.6/site-packages/keras/optimizers.py:757: The name tf.train.Optimizer is deprecated. Please use tf.compat.v1.train.Optimizer instead.\n",
      "\n"
     ]
    }
   ],
   "source": [
    "from keras.models import load_model\n",
    "import numpy as np\n",
    "max_soilmoisture = 100\n",
    "min_soilmoisture = 0\n",
    "max_humidity = 100\n",
    "min_humidity = 0\n",
    "max_temperature = 50\n",
    "min_temperature = 10\n",
    "max_nextSoilMoisture = 100\n",
    "min_nextSoilMoisture = 0\n",
    "\n",
    "def scaleData(min_value, max_value, min_range, max_range, value):\n",
    "    return min_range+((value-min_value)*(max_range-min_range))/(max_value-min_value)\n",
    "def scaleDatas(min_value, max_value, min_range, max_range, values):\n",
    "    values_ret=[]\n",
    "    for i in range(len(values)):\n",
    "        values_ret.append(scaleData(min_value, max_value, min_range, max_range, values[i]));\n",
    "    return values_ret\n",
    "decreaseModel = load_model(\"eva_hourly.h5\")\n",
    "def nextSoilMoistureAfterAnHour(currentSoilMoisture, wfat):\n",
    "    scaleCurrentSoilMoisture=scaleData(min_soilmoisture,max_soilmoisture,0,1,currentSoilMoisture)\n",
    "    scaleTemperature = scaleData(min_temperature,max_temperature,0,1,wfat.temperature)\n",
    "    scaleHumidity = scaleData(min_humidity,max_humidity,0,1,wfat.humidity)\n",
    "    nextSoilMoisture = decreaseModel.predict(np.array([[scaleCurrentSoilMoisture, scaleHumidity, scaleTemperature]]))\n",
    "    ret = scaleData(0,1,min_soilmoisture,max_soilmoisture,nextSoilMoisture)\n",
    "    return ret"
   ]
  },
  {
   "cell_type": "markdown",
   "metadata": {},
   "source": [
    "### Giải thuật tưới MPC"
   ]
  },
  {
   "cell_type": "code",
   "execution_count": 66,
   "metadata": {},
   "outputs": [],
   "source": [
    "# increaseModel = IncreaseModel()\n",
    "# print(increaseModel.getSoilMoisture(currentSM=65,periodTime=60))\n",
    "# import numpy as np\n",
    "# decreaseModel.predict(np.array([[0.70177906, 0.89681188, 0.42410891]]))\n",
    "# startTime = datetime.datetime(2020,5,1,9,0,0)\n",
    "# str(startTime)\n",
    "# wfats = getWeatherForecastAtATimeByTime(startTime)\n",
    "# for w in wateringLevel:\n",
    "#     print(w)"
   ]
  },
  {
   "cell_type": "code",
   "execution_count": 12,
   "metadata": {},
   "outputs": [],
   "source": [
    "wateringTimeLevel = [0,1,2,3]\n",
    "increaseModel = IncreaseModel()\n",
    "lostWaterTime = 0\n",
    "minLostWaterTime = 9999999\n",
    "solution = [0,0,0,0,0,0,0,0,0,0,0,0]\n",
    "minSolution = [0,0,0,0,0,0,0,0,0,0,0,0]\n",
    "upperThreshold = 70\n",
    "lowerThreshold = 60\n",
    "def init():\n",
    "    global lostWaterTime\n",
    "    global minLostWaterTime\n",
    "    global solution\n",
    "    global minSolution\n",
    "    global upperThreshold\n",
    "    global lowerThreshold\n",
    "    lostWaterTime = 0\n",
    "    minLostWaterTime = 9999999\n",
    "    solution = [0,0,0,0,0,0,0,0,0,0,0,0]\n",
    "    minSolution = [0,0,0,0,0,0,0,0,0,0,0,0]\n",
    "    upperThreshold = 70\n",
    "    lowerThreshold = 60\n",
    "# class :\n",
    "#     t = []\n",
    "#     soilMoisture = 12\n",
    "\n",
    "def watering(soilMoisture, t):\n",
    "    global lostWaterTime\n",
    "#     print(\"before: %f\" %currentSoilMoisture)\n",
    "    temp = increaseModel.getSoilMoisture(soilMoisture,t)\n",
    "    soilMoisture=temp\n",
    "#     print(\"after: %f\" %currentSoilMoisture)\n",
    "    lostWaterTime+=t\n",
    "    return soilMoisture\n",
    "def resetWatering(t,resetSoilMoisture):\n",
    "    global lostWaterTime\n",
    "    soilMoisture = resetSoilMoisture\n",
    "    lostWaterTime-=t\n",
    "    return soilMoisture\n",
    "def isSatisfyCondition(soilMoisture):\n",
    "    global lostWater, minLostWaterTime\n",
    "    if lostWaterTime>minLostWaterTime:\n",
    "#         print(\"bad\")\n",
    "        return False\n",
    "    if soilMoisture>upperThreshold or soilMoisture<lowerThreshold:\n",
    "#         print(\"outside\")\n",
    "        return False\n",
    "    return True\n",
    "def calWatering(soilMoisture, index):\n",
    "    global lostWater,lostWaterTime,minSolution,solution,wateringLevel, minLostWaterTime, minLostWater\n",
    "    if index == 12:\n",
    "        \n",
    "        if lostWaterTime < minLostWaterTime:\n",
    "            minLostWaterTime = lostWaterTime\n",
    "            minSolution = solution.copy()\n",
    "            print(\"solution: \")\n",
    "            print(minSolution)\n",
    "    else:\n",
    "        for t in wateringTimeLevel:\n",
    "#             print(\"index: %d, w: %d\"% (index,w))\n",
    "            resetSoilMoisture = soilMoisture\n",
    "#             print(\"before: %f\" %soilMoisture)\n",
    "            soilMoisture = watering(soilMoisture, t)\n",
    "            solution[index] = t\n",
    "            \n",
    "            soilMoisture=nextSoilMoistureAfterAnHour(soilMoisture,wfats[index])\n",
    "#             print(\"after: %f \" %soilMoisture)\n",
    "            if(not isSatisfyCondition(soilMoisture)):\n",
    "                soilMoisture = resetWatering(t,resetSoilMoisture)\n",
    "                continue\n",
    "            calWatering(soilMoisture, index+1)\n",
    "            soilMoisture = resetWatering(t,resetSoilMoisture)\n",
    "            \n",
    "\n",
    "def selectWateringTime(soilMoisture, startTime):\n",
    "#     print(\"select Watering - soilMoisture: %f\"%soilMoisture)\n",
    "    wfats = getWeatherForecastAtATimeByTime(startTime)\n",
    "    calWatering(soilMoisture, 0)\n",
    "    print(minSolution)\n",
    "    return minSolution[0]\n",
    "# init()\n",
    "# startTime = datetime.datetime(2020,5,3,11,0,0)\n",
    "# selectWatering(60.349251,startTime)"
   ]
  },
  {
   "cell_type": "code",
   "execution_count": 54,
   "metadata": {},
   "outputs": [
    {
     "name": "stdout",
     "output_type": "stream",
     "text": [
      "Soil moisture: 63.000000 at 2020-06-03 13:49:04.259656\n",
      "solution: \n",
      "[0, 0, 0, 1, 0, 1, 0, 0, 1, 0, 0, 1]\n",
      "[0, 0, 0, 1, 0, 1, 0, 0, 1, 0, 0, 1]\n",
      "Soil moisture: 61.908978 at 2020-06-03 13:49:09.465039\n",
      "solution: \n",
      "[0, 0, 1, 0, 1, 0, 0, 1, 0, 0, 1, 0]\n",
      "[0, 0, 1, 0, 1, 0, 0, 1, 0, 0, 1, 0]\n",
      "Soil moisture: 61.101662 at 2020-06-03 13:49:13.292319\n",
      "solution: \n",
      "[0, 1, 0, 1, 0, 0, 1, 0, 0, 1, 0, 1]\n",
      "[0, 1, 0, 1, 0, 0, 1, 0, 0, 1, 0, 1]\n",
      "Soil moisture: 60.465504 at 2020-06-03 13:49:20.462180\n",
      "solution: \n",
      "[1, 0, 1, 0, 0, 1, 0, 0, 1, 0, 1, 1]\n",
      "[1, 0, 1, 0, 0, 1, 0, 0, 1, 0, 1, 1]\n",
      "Soil moisture: 60.990154 at 2020-06-03 13:49:31.609812\n",
      "solution: \n",
      "[0, 1, 0, 0, 1, 0, 0, 1, 0, 1, 1, 1]\n",
      "[0, 1, 0, 0, 1, 0, 0, 1, 0, 1, 1, 1]\n",
      "Soil moisture: 60.374874 at 2020-06-03 13:49:52.710945\n",
      "solution: \n",
      "[1, 0, 0, 1, 0, 0, 1, 0, 1, 1, 1, 1]\n",
      "[1, 0, 0, 1, 0, 0, 1, 0, 1, 1, 1, 1]\n",
      "Soil moisture: 60.954689 at 2020-06-03 13:50:25.179875\n",
      "solution: \n",
      "[0, 0, 1, 0, 0, 1, 0, 1, 1, 1, 1, 1]\n",
      "[0, 0, 1, 0, 0, 1, 0, 1, 1, 1, 1, 1]\n",
      "Soil moisture: 60.394867 at 2020-06-03 13:51:23.636297\n",
      "solution: \n",
      "[0, 1, 0, 0, 1, 0, 1, 1, 1, 1, 1, 1]\n",
      "[0, 1, 0, 0, 1, 0, 1, 1, 1, 1, 1, 1]\n",
      "Soil moisture: 60.024189 at 2020-06-03 13:52:59.684640\n",
      "solution: \n",
      "[1, 0, 0, 1, 0, 1, 1, 1, 1, 1, 1, 1]\n",
      "[1, 0, 0, 1, 0, 1, 1, 1, 1, 1, 1, 1]\n",
      "Soil moisture: 60.914444 at 2020-06-03 13:54:56.696948\n",
      "solution: \n",
      "[0, 0, 1, 0, 1, 1, 1, 1, 2, 1, 1, 2]\n",
      "solution: \n",
      "[0, 0, 1, 0, 1, 1, 1, 1, 3, 2, 0, 0]\n",
      "[0, 0, 1, 0, 1, 1, 1, 1, 3, 2, 0, 0]\n",
      "Soil moisture: 60.765083 at 2020-06-03 14:01:02.627072\n",
      "solution: \n",
      "[0, 1, 0, 1, 1, 1, 1, 2, 1, 1, 2, 1]\n",
      "solution: \n",
      "[0, 1, 0, 1, 1, 1, 3, 2, 1, 1, 0, 0]\n",
      "[0, 1, 0, 1, 1, 1, 3, 2, 1, 1, 0, 0]\n",
      "Soil moisture: 60.313190 at 2020-06-03 14:08:39.695232\n",
      "solution: \n",
      "[1, 0, 1, 0, 2, 0, 2, 1, 1, 2, 1, 2]\n",
      "solution: \n",
      "[1, 0, 1, 0, 2, 0, 2, 1, 1, 2, 2, 0]\n",
      "[1, 0, 1, 0, 2, 0, 2, 1, 1, 2, 2, 0]\n",
      "Soil moisture: 60.940025 at 2020-06-03 14:18:42.009935\n",
      "solution: \n",
      "[0, 1, 1, 1, 1, 2, 1, 1, 2, 1, 1, 2]\n",
      "solution: \n",
      "[0, 1, 1, 1, 1, 2, 1, 1, 2, 2, 1, 0]\n",
      "[0, 1, 1, 1, 1, 2, 1, 1, 2, 2, 1, 0]\n",
      "Soil moisture: 60.411484 at 2020-06-03 14:36:05.114908\n",
      "solution: \n",
      "[1, 1, 1, 1, 2, 1, 1, 2, 1, 1, 2, 1]\n",
      "solution: \n",
      "[1, 1, 1, 1, 2, 1, 1, 2, 1, 2, 1, 0]\n",
      "solution: \n",
      "[1, 1, 2, 2, 2, 1, 3, 0, 0, 1, 0, 0]\n",
      "[1, 1, 2, 2, 2, 1, 3, 0, 0, 1, 0, 0]\n",
      "Soil moisture: 60.616707 at 2020-06-03 14:42:29.120229\n",
      "solution: \n",
      "[1, 1, 1, 2, 1, 1, 2, 1, 1, 2, 1, 0]\n",
      "solution: \n",
      "[1, 1, 1, 2, 2, 2, 2, 1, 1, 0, 0, 0]\n",
      "[1, 1, 1, 2, 2, 2, 2, 1, 1, 0, 0, 0]\n",
      "Soil moisture: 60.614849 at 2020-06-03 14:47:31.315305\n",
      "solution: \n",
      "[1, 1, 2, 1, 1, 2, 1, 1, 2, 1, 0, 1]\n",
      "solution: \n",
      "[1, 1, 2, 1, 1, 2, 1, 1, 3, 0, 0, 0]\n",
      "solution: \n",
      "[1, 2, 3, 1, 3, 0, 1, 1, 0, 0, 0, 0]\n",
      "[1, 2, 3, 1, 3, 0, 1, 1, 0, 0, 0, 0]\n",
      "Soil moisture: 60.618908 at 2020-06-03 14:49:29.505175\n",
      "solution: \n",
      "[1, 2, 1, 1, 2, 1, 1, 2, 1, 0, 1, 0]\n",
      "solution: \n",
      "[1, 2, 1, 1, 3, 2, 2, 0, 0, 0, 0, 0]\n",
      "[1, 2, 1, 1, 3, 2, 2, 0, 0, 0, 0, 0]\n",
      "Soil moisture: 60.317486 at 2020-06-03 14:50:56.087096\n",
      "solution: \n",
      "[2, 1, 1, 2, 1, 1, 2, 1, 0, 1, 0, 0]\n",
      "solution: \n",
      "[2, 3, 3, 0, 1, 2, 0, 0, 0, 0, 0, 0]\n",
      "[2, 3, 3, 0, 1, 2, 0, 0, 0, 0, 0, 0]\n",
      "Soil moisture: 61.189747 at 2020-06-03 14:51:34.824713\n",
      "solution: \n",
      "[1, 1, 2, 1, 1, 2, 1, 0, 1, 0, 0, 1]\n",
      "solution: \n",
      "[1, 1, 2, 2, 2, 1, 0, 0, 0, 1, 0, 0]\n",
      "[1, 1, 2, 2, 2, 1, 0, 0, 0, 1, 0, 0]\n",
      "Soil moisture: 60.842800 at 2020-06-03 14:52:11.998498\n",
      "solution: \n",
      "[1, 2, 1, 1, 2, 1, 0, 1, 0, 0, 1, 0]\n",
      "solution: \n",
      "[2, 2, 2, 2, 0, 0, 0, 0, 0, 1, 0, 0]\n",
      "[2, 2, 2, 2, 0, 0, 0, 0, 0, 1, 0, 0]\n",
      "Soil moisture: 61.461807 at 2020-06-03 14:52:34.207783\n",
      "solution: \n",
      "[1, 1, 1, 2, 0, 1, 0, 1, 0, 1, 0, 0]\n",
      "solution: \n",
      "[2, 2, 2, 0, 0, 0, 0, 0, 1, 0, 0, 0]\n",
      "[2, 2, 2, 0, 0, 0, 0, 0, 1, 0, 0, 0]\n",
      "Soil moisture: 62.322109 at 2020-06-03 14:52:50.709594\n",
      "solution: \n",
      "[0, 1, 1, 1, 1, 0, 1, 0, 1, 0, 0, 0]\n",
      "solution: \n",
      "[2, 2, 0, 0, 0, 0, 0, 1, 0, 0, 0, 0]\n",
      "[2, 2, 0, 0, 0, 0, 0, 1, 0, 0, 0, 0]\n",
      "Soil moisture: 63.336170 at 2020-06-03 14:52:57.697875\n",
      "solution: \n",
      "[0, 1, 1, 1, 1, 0, 1, 0, 0, 0, 0, 0]\n",
      "[0, 1, 1, 1, 1, 0, 1, 0, 0, 0, 0, 0]\n",
      "Soil moisture: 61.412884 at 2020-06-03 14:53:00.421394\n",
      "solution: \n",
      "[1, 1, 1, 1, 0, 1, 0, 0, 0, 0, 0, 0]\n",
      "[1, 1, 1, 1, 0, 1, 0, 0, 0, 0, 0, 0]\n",
      "[[63, datetime.datetime(2020, 5, 3, 6, 0), 0], [61.90897750854492, datetime.datetime(2020, 5, 3, 7, 0), 0], [61.101661682128906, datetime.datetime(2020, 5, 3, 8, 0), 0], [60.46550369262695, datetime.datetime(2020, 5, 3, 9, 0), 0], [61.665503692626956, datetime.datetime(2020, 5, 3, 9, 0, 1), 1], [60.99015426635742, datetime.datetime(2020, 5, 3, 10, 0), 0], [60.374874114990234, datetime.datetime(2020, 5, 3, 11, 0), 0], [61.57487411499024, datetime.datetime(2020, 5, 3, 11, 0, 1), 1], [60.954689025878906, datetime.datetime(2020, 5, 3, 12, 0), 0], [60.394866943359375, datetime.datetime(2020, 5, 3, 13, 0), 0], [60.02418899536133, datetime.datetime(2020, 5, 3, 14, 0), 0], [61.22418899536133, datetime.datetime(2020, 5, 3, 14, 0, 1), 1], [60.91444396972656, datetime.datetime(2020, 5, 3, 15, 0), 0], [60.76508331298828, datetime.datetime(2020, 5, 3, 16, 0), 0], [60.31319046020508, datetime.datetime(2020, 5, 3, 17, 0), 0], [61.51319046020508, datetime.datetime(2020, 5, 3, 17, 0, 1), 1], [60.940025329589844, datetime.datetime(2020, 5, 3, 18, 0), 0], [60.41148376464844, datetime.datetime(2020, 5, 3, 19, 0), 0], [61.61148376464844, datetime.datetime(2020, 5, 3, 19, 0, 1), 1], [60.61670684814453, datetime.datetime(2020, 5, 3, 20, 0), 0], [61.816706848144534, datetime.datetime(2020, 5, 3, 20, 0, 1), 1], [60.61484909057617, datetime.datetime(2020, 5, 3, 21, 0), 0], [61.814849090576175, datetime.datetime(2020, 5, 3, 21, 0, 1), 1], [60.6189079284668, datetime.datetime(2020, 5, 3, 22, 0), 0], [61.8189079284668, datetime.datetime(2020, 5, 3, 22, 0, 1), 1], [60.31748580932617, datetime.datetime(2020, 5, 3, 23, 0), 0], [62.71748580932617, datetime.datetime(2020, 5, 3, 23, 0, 2), 2], [61.18974685668945, datetime.datetime(2020, 5, 4, 0, 0), 0], [62.389746856689456, datetime.datetime(2020, 5, 4, 0, 0, 1), 1], [60.84280014038086, datetime.datetime(2020, 5, 4, 1, 0), 0], [63.24280014038086, datetime.datetime(2020, 5, 4, 1, 0, 2), 2], [61.46180725097656, datetime.datetime(2020, 5, 4, 2, 0), 0], [63.86180725097656, datetime.datetime(2020, 5, 4, 2, 0, 2), 2], [62.32210922241211, datetime.datetime(2020, 5, 4, 3, 0), 0], [64.72210922241212, datetime.datetime(2020, 5, 4, 3, 0, 2), 2], [63.3361701965332, datetime.datetime(2020, 5, 4, 4, 0), 0], [61.41288375854492, datetime.datetime(2020, 5, 4, 5, 0), 0], [62.612883758544925, datetime.datetime(2020, 5, 4, 5, 0, 1), 1], [60.65080261230469, datetime.datetime(2020, 5, 4, 6, 0), 0]]\n"
     ]
    }
   ],
   "source": [
    "startTime = datetime.datetime(2020,5,3,6,0,0)\n",
    "soilMoisture=63\n",
    "soilMoisturesAndTimes = []\n",
    "soilMoisturesAndTimes.append([soilMoisture,startTime,0])\n",
    "def realWatering(soilMoisture,t):\n",
    "    soilMoisture=increaseModel.getSoilMoisture(soilMoisture,t)\n",
    "    return soilMoisture\n",
    "def realEva(soilMoisture,wfats):\n",
    "#     print(\"%f, %f\"%(wfats[0].temperature,wfats[1].humidity))\n",
    "    soilMoisture=nextSoilMoistureAfterAnHour(soilMoisture,wfats[0])\n",
    "    return soilMoisture\n",
    "for i in range(24):\n",
    "    print(\"Soil moisture: %f at %s\"%(soilMoisture,str(datetime.datetime.now())))\n",
    "    init()\n",
    "    wfats = getWeatherForecastAtATimeByTime(startTime)\n",
    "    t = selectWateringTime(soilMoisture, startTime)\n",
    "    soilMoisture = float(realWatering(soilMoisture,t))\n",
    "    if t!=0:\n",
    "        soilMoisturesAndTimes.append([soilMoisture,startTime+datetime.timedelta(seconds=t),t])\n",
    "    soilMoisture = float(realEva(soilMoisture,wfats))\n",
    "    startTime = nextHour(startTime)\n",
    "    soilMoisturesAndTimes.append([soilMoisture,startTime,0])\n",
    "# soilMoisture\n",
    "print(soilMoisturesAndTimes)"
   ]
  },
  {
   "cell_type": "code",
   "execution_count": 57,
   "metadata": {},
   "outputs": [
    {
     "data": {
      "text/plain": [
       "[<matplotlib.lines.Line2D at 0x7f8cbd645b70>]"
      ]
     },
     "execution_count": 57,
     "metadata": {},
     "output_type": "execute_result"
    },
    {
     "data": {
      "image/png": "[encoded data removed]",
      "text/plain": [
       "<Figure size 432x288 with 1 Axes>"
      ]
     },
     "metadata": {},
     "output_type": "display_data"
    }
   ],
   "source": [
    "import matplotlib.pyplot as plt\n",
    "temp = np.array(soilMoisturesAndTimes).transpose()\n",
    "plt.plot(temp[1],temp[0])"
   ]
  },
  {
   "cell_type": "code",
   "execution_count": 58,
   "metadata": {},
   "outputs": [],
   "source": [
    "import pandas as pd\n",
    "soilMoistureFolowTimeByMPC = pd.DataFrame(temp.transpose(),columns=['soil moisture','datetime','amount of watering'])\n",
    "soilMoistureFolowTimeByMPC.to_csv(\"soil_moisture_MPC.csv\")"
   ]
  },
  {
   "cell_type": "code",
   "execution_count": 59,
   "metadata": {},
   "outputs": [
    {
     "name": "stdout",
     "output_type": "stream",
     "text": [
      "[0, 0, 0, 0, 1, 1, 1, 2, 2, 2, 2, 3, 3, 3, 3, 4, 4, 4, 5, 5, 6, 6, 7, 7, 8, 8, 10, 10, 11, 11, 13, 13, 15, 15, 17, 17, 17, 18, 18]\n"
     ]
    },
    {
     "data": {
      "text/plain": [
       "[<matplotlib.lines.Line2D at 0x7f8cbd5d4588>]"
      ]
     },
     "execution_count": 59,
     "metadata": {},
     "output_type": "execute_result"
    },
    {
     "data": {
      "image/png": "[encoded data removed]",
      "text/plain": [
       "<Figure size 432x288 with 1 Axes>"
      ]
     },
     "metadata": {},
     "output_type": "display_data"
    }
   ],
   "source": [
    "sumTime=[]\n",
    "sumTime.append(temp[2][0])\n",
    "for i in range(1,len(temp[2])):\n",
    "    sumTime.append(sumTime[i-1]+temp[2][i])\n",
    "print(sumTime)\n",
    "plt.plot(sumTime)"
   ]
  },
  {
   "cell_type": "markdown",
   "metadata": {},
   "source": [
    "### Giải thuật tưới on/off"
   ]
  },
  {
   "cell_type": "code",
   "execution_count": null,
   "metadata": {},
   "outputs": [],
   "source": [
    "startTime = datetime.datetime(2020,5,3,11,0,0)\n",
    "# soilMoisture = 65\n",
    "soilMoisturesAndTimes = []\n",
    "soilMoisturesAndTimes.append((soilMoisture,startTime))\n",
    "def isValidThreshold(soilMoisture):\n",
    "    if soilMoisture<lowerThreshold or soilMoisture>upperThreshold:\n",
    "        return false\n",
    "    return true\n",
    "for i in range(12):\n",
    "    if soilMoisture<lowerThreshold:\n",
    "        soilMoisture="
   ]
  }
 ],
 "metadata": {
  "kernelspec": {
   "display_name": "Python 3",
   "language": "python",
   "name": "python3"
  },
  "language_info": {
   "codemirror_mode": {
    "name": "ipython",
    "version": 3
   },
   "file_extension": ".py",
   "mimetype": "text/x-python",
   "name": "python",
   "nbconvert_exporter": "python",
   "pygments_lexer": "ipython3",
   "version": "3.6.9"
  }
 },
 "nbformat": 4,
 "nbformat_minor": 2
}
