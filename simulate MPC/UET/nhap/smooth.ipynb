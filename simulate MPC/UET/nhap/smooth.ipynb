{
 "cells": [
  {
   "cell_type": "code",
   "execution_count": 7,
   "metadata": {},
   "outputs": [
    {
     "name": "stdout",
     "output_type": "stream",
     "text": [
      "<mysql.connector.connection.MySQLConnection object at 0x7fefb7c992e8>\n"
     ]
    },
    {
     "data": {
      "text/html": [
       "<div>\n",
       "<style scoped>\n",
       "    .dataframe tbody tr th:only-of-type {\n",
       "        vertical-align: middle;\n",
       "    }\n",
       "\n",
       "    .dataframe tbody tr th {\n",
       "        vertical-align: top;\n",
       "    }\n",
       "\n",
       "    .dataframe thead th {\n",
       "        text-align: right;\n",
       "    }\n",
       "</style>\n",
       "<table border=\"1\" class=\"dataframe\">\n",
       "  <thead>\n",
       "    <tr style=\"text-align: right;\">\n",
       "      <th></th>\n",
       "      <th>SensingID</th>\n",
       "      <th>DeviceID</th>\n",
       "      <th>PlotID</th>\n",
       "      <th>SoilMoisture</th>\n",
       "      <th>Humidity</th>\n",
       "      <th>Temperature</th>\n",
       "      <th>LightLevel</th>\n",
       "      <th>TimeOfMeasurement</th>\n",
       "    </tr>\n",
       "  </thead>\n",
       "  <tbody>\n",
       "    <tr>\n",
       "      <th>0</th>\n",
       "      <td>1</td>\n",
       "      <td>81604378625</td>\n",
       "      <td>1</td>\n",
       "      <td>47.4427</td>\n",
       "      <td>94.2</td>\n",
       "      <td>26.0</td>\n",
       "      <td>0</td>\n",
       "      <td>2020-04-20 01:18:41</td>\n",
       "    </tr>\n",
       "    <tr>\n",
       "      <th>1</th>\n",
       "      <td>2</td>\n",
       "      <td>81604378625</td>\n",
       "      <td>1</td>\n",
       "      <td>47.4427</td>\n",
       "      <td>94.2</td>\n",
       "      <td>25.9</td>\n",
       "      <td>0</td>\n",
       "      <td>2020-04-20 01:19:01</td>\n",
       "    </tr>\n",
       "    <tr>\n",
       "      <th>2</th>\n",
       "      <td>3</td>\n",
       "      <td>81604378625</td>\n",
       "      <td>1</td>\n",
       "      <td>47.4427</td>\n",
       "      <td>94.2</td>\n",
       "      <td>25.9</td>\n",
       "      <td>0</td>\n",
       "      <td>2020-04-20 01:19:21</td>\n",
       "    </tr>\n",
       "    <tr>\n",
       "      <th>3</th>\n",
       "      <td>4</td>\n",
       "      <td>81604378625</td>\n",
       "      <td>1</td>\n",
       "      <td>47.4427</td>\n",
       "      <td>94.2</td>\n",
       "      <td>25.9</td>\n",
       "      <td>0</td>\n",
       "      <td>2020-04-20 01:19:41</td>\n",
       "    </tr>\n",
       "    <tr>\n",
       "      <th>4</th>\n",
       "      <td>5</td>\n",
       "      <td>81604378625</td>\n",
       "      <td>1</td>\n",
       "      <td>47.4427</td>\n",
       "      <td>94.2</td>\n",
       "      <td>25.9</td>\n",
       "      <td>0</td>\n",
       "      <td>2020-04-20 01:20:01</td>\n",
       "    </tr>\n",
       "    <tr>\n",
       "      <th>...</th>\n",
       "      <td>...</td>\n",
       "      <td>...</td>\n",
       "      <td>...</td>\n",
       "      <td>...</td>\n",
       "      <td>...</td>\n",
       "      <td>...</td>\n",
       "      <td>...</td>\n",
       "      <td>...</td>\n",
       "    </tr>\n",
       "    <tr>\n",
       "      <th>20511</th>\n",
       "      <td>20615</td>\n",
       "      <td>68719476737</td>\n",
       "      <td>1</td>\n",
       "      <td>73.2970</td>\n",
       "      <td>88.0</td>\n",
       "      <td>29.0</td>\n",
       "      <td>326</td>\n",
       "      <td>2020-05-09 10:09:27</td>\n",
       "    </tr>\n",
       "    <tr>\n",
       "      <th>20512</th>\n",
       "      <td>20616</td>\n",
       "      <td>68719476737</td>\n",
       "      <td>1</td>\n",
       "      <td>74.1047</td>\n",
       "      <td>88.1</td>\n",
       "      <td>29.0</td>\n",
       "      <td>503</td>\n",
       "      <td>2020-05-09 10:11:21</td>\n",
       "    </tr>\n",
       "    <tr>\n",
       "      <th>20513</th>\n",
       "      <td>20617</td>\n",
       "      <td>68719476737</td>\n",
       "      <td>1</td>\n",
       "      <td>74.1047</td>\n",
       "      <td>87.7</td>\n",
       "      <td>29.1</td>\n",
       "      <td>496</td>\n",
       "      <td>2020-05-09 10:11:41</td>\n",
       "    </tr>\n",
       "    <tr>\n",
       "      <th>20514</th>\n",
       "      <td>20618</td>\n",
       "      <td>68719476737</td>\n",
       "      <td>1</td>\n",
       "      <td>74.3094</td>\n",
       "      <td>87.5</td>\n",
       "      <td>29.1</td>\n",
       "      <td>530</td>\n",
       "      <td>2020-05-09 10:12:01</td>\n",
       "    </tr>\n",
       "    <tr>\n",
       "      <th>20515</th>\n",
       "      <td>20619</td>\n",
       "      <td>68719476737</td>\n",
       "      <td>1</td>\n",
       "      <td>73.6986</td>\n",
       "      <td>87.5</td>\n",
       "      <td>29.1</td>\n",
       "      <td>533</td>\n",
       "      <td>2020-05-09 10:12:21</td>\n",
       "    </tr>\n",
       "  </tbody>\n",
       "</table>\n",
       "<p>20516 rows × 8 columns</p>\n",
       "</div>"
      ],
      "text/plain": [
       "       SensingID     DeviceID  PlotID  SoilMoisture  Humidity  Temperature  \\\n",
       "0              1  81604378625       1       47.4427      94.2         26.0   \n",
       "1              2  81604378625       1       47.4427      94.2         25.9   \n",
       "2              3  81604378625       1       47.4427      94.2         25.9   \n",
       "3              4  81604378625       1       47.4427      94.2         25.9   \n",
       "4              5  81604378625       1       47.4427      94.2         25.9   \n",
       "...          ...          ...     ...           ...       ...          ...   \n",
       "20511      20615  68719476737       1       73.2970      88.0         29.0   \n",
       "20512      20616  68719476737       1       74.1047      88.1         29.0   \n",
       "20513      20617  68719476737       1       74.1047      87.7         29.1   \n",
       "20514      20618  68719476737       1       74.3094      87.5         29.1   \n",
       "20515      20619  68719476737       1       73.6986      87.5         29.1   \n",
       "\n",
       "       LightLevel   TimeOfMeasurement  \n",
       "0               0 2020-04-20 01:18:41  \n",
       "1               0 2020-04-20 01:19:01  \n",
       "2               0 2020-04-20 01:19:21  \n",
       "3               0 2020-04-20 01:19:41  \n",
       "4               0 2020-04-20 01:20:01  \n",
       "...           ...                 ...  \n",
       "20511         326 2020-05-09 10:09:27  \n",
       "20512         503 2020-05-09 10:11:21  \n",
       "20513         496 2020-05-09 10:11:41  \n",
       "20514         530 2020-05-09 10:12:01  \n",
       "20515         533 2020-05-09 10:12:21  \n",
       "\n",
       "[20516 rows x 8 columns]"
      ]
     },
     "execution_count": 7,
     "metadata": {},
     "output_type": "execute_result"
    }
   ],
   "source": [
    "import mysql.connector\n",
    "\n",
    "mydb = mysql.connector.connect(\n",
    "    host=\"sv-procon.uet.vnu.edu.vn\",\n",
    "    user=\"root\",\n",
    "    passwd=\"iotlab2018\",\n",
    "    database=\"irrigation_database\"\n",
    ")\n",
    "print(mydb)\n",
    "mycursor = mydb.cursor()\n",
    "mycursor.execute(\"select * from Sensing\")\n",
    "myresult = mycursor.fetchall()\n",
    "\n",
    "import pandas as pd\n",
    "columns=['SensingID','DeviceID','PlotID','SoilMoisture','Humidity','Temperature','LightLevel','TimeOfMeasurement']\n",
    "data = pd.DataFrame(myresult,columns=columns)\n",
    "data"
   ]
  },
  {
   "cell_type": "code",
   "execution_count": 18,
   "metadata": {},
   "outputs": [],
   "source": [
    "import numpy as np\n",
    "from scipy.signal import savgol_filter\n",
    "import matplotlib.pyplot as plt"
   ]
  },
  {
   "cell_type": "code",
   "execution_count": 55,
   "metadata": {},
   "outputs": [
    {
     "ename": "TypeError",
     "evalue": "float() argument must be a string or a number, not 'Timestamp'",
     "output_type": "error",
     "traceback": [
      "\u001b[0;31m---------------------------------------------------------------------------\u001b[0m",
      "\u001b[0;31mTypeError\u001b[0m                                 Traceback (most recent call last)",
      "\u001b[0;32m<ipython-input-55-5af6d06bc08b>\u001b[0m in \u001b[0;36m<module>\u001b[0;34m()\u001b[0m\n\u001b[0;32m----> 1\u001b[0;31m \u001b[0myhat\u001b[0m \u001b[0;34m=\u001b[0m \u001b[0msavgol_filter\u001b[0m\u001b[0;34m(\u001b[0m\u001b[0mdata\u001b[0m\u001b[0;34m,\u001b[0m \u001b[0;36m201\u001b[0m\u001b[0;34m,\u001b[0m \u001b[0;36m1\u001b[0m\u001b[0;34m)\u001b[0m\u001b[0;34m\u001b[0m\u001b[0;34m\u001b[0m\u001b[0m\n\u001b[0m",
      "\u001b[0;32m~/Documents/ky8/learnML/learnML/lib/python3.6/site-packages/scipy/signal/_savitzky_golay.py\u001b[0m in \u001b[0;36msavgol_filter\u001b[0;34m(x, window_length, polyorder, deriv, delta, axis, mode, cval)\u001b[0m\n\u001b[1;32m    329\u001b[0m     \u001b[0;31m# Ensure that x is either single or double precision floating point.\u001b[0m\u001b[0;34m\u001b[0m\u001b[0;34m\u001b[0m\u001b[0;34m\u001b[0m\u001b[0m\n\u001b[1;32m    330\u001b[0m     \u001b[0;32mif\u001b[0m \u001b[0mx\u001b[0m\u001b[0;34m.\u001b[0m\u001b[0mdtype\u001b[0m \u001b[0;34m!=\u001b[0m \u001b[0mnp\u001b[0m\u001b[0;34m.\u001b[0m\u001b[0mfloat64\u001b[0m \u001b[0;32mand\u001b[0m \u001b[0mx\u001b[0m\u001b[0;34m.\u001b[0m\u001b[0mdtype\u001b[0m \u001b[0;34m!=\u001b[0m \u001b[0mnp\u001b[0m\u001b[0;34m.\u001b[0m\u001b[0mfloat32\u001b[0m\u001b[0;34m:\u001b[0m\u001b[0;34m\u001b[0m\u001b[0;34m\u001b[0m\u001b[0m\n\u001b[0;32m--> 331\u001b[0;31m         \u001b[0mx\u001b[0m \u001b[0;34m=\u001b[0m \u001b[0mx\u001b[0m\u001b[0;34m.\u001b[0m\u001b[0mastype\u001b[0m\u001b[0;34m(\u001b[0m\u001b[0mnp\u001b[0m\u001b[0;34m.\u001b[0m\u001b[0mfloat64\u001b[0m\u001b[0;34m)\u001b[0m\u001b[0;34m\u001b[0m\u001b[0;34m\u001b[0m\u001b[0m\n\u001b[0m\u001b[1;32m    332\u001b[0m \u001b[0;34m\u001b[0m\u001b[0m\n\u001b[1;32m    333\u001b[0m     \u001b[0mcoeffs\u001b[0m \u001b[0;34m=\u001b[0m \u001b[0msavgol_coeffs\u001b[0m\u001b[0;34m(\u001b[0m\u001b[0mwindow_length\u001b[0m\u001b[0;34m,\u001b[0m \u001b[0mpolyorder\u001b[0m\u001b[0;34m,\u001b[0m \u001b[0mderiv\u001b[0m\u001b[0;34m=\u001b[0m\u001b[0mderiv\u001b[0m\u001b[0;34m,\u001b[0m \u001b[0mdelta\u001b[0m\u001b[0;34m=\u001b[0m\u001b[0mdelta\u001b[0m\u001b[0;34m)\u001b[0m\u001b[0;34m\u001b[0m\u001b[0;34m\u001b[0m\u001b[0m\n",
      "\u001b[0;31mTypeError\u001b[0m: float() argument must be a string or a number, not 'Timestamp'"
     ]
    }
   ],
   "source": [
    "yhat = savgol_filter(data, 201, 1)"
   ]
  },
  {
   "cell_type": "code",
   "execution_count": 54,
   "metadata": {},
   "outputs": [
    {
     "data": {
      "text/plain": [
       "[<matplotlib.lines.Line2D at 0x7fefb02eccc0>]"
      ]
     },
     "execution_count": 54,
     "metadata": {},
     "output_type": "execute_result"
    },
    {
     "data": {
      "image/png": "[encoded data removed]",
      "text/plain": [
       "<Figure size 432x288 with 1 Axes>"
      ]
     },
     "metadata": {},
     "output_type": "display_data"
    }
   ],
   "source": [
    "plt.plot(yhat[700:800])"
   ]
  },
  {
   "cell_type": "code",
   "execution_count": null,
   "metadata": {},
   "outputs": [],
   "source": []
  }
 ],
 "metadata": {
  "kernelspec": {
   "display_name": "Python 3",
   "language": "python",
   "name": "python3"
  },
  "language_info": {
   "codemirror_mode": {
    "name": "ipython",
    "version": 3
   },
   "file_extension": ".py",
   "mimetype": "text/x-python",
   "name": "python",
   "nbconvert_exporter": "python",
   "pygments_lexer": "ipython3",
   "version": "3.6.9"
  }
 },
 "nbformat": 4,
 "nbformat_minor": 2
}
