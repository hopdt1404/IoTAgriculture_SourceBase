{
 "cells": [
  {
   "cell_type": "markdown",
   "metadata": {},
   "source": [
    "## Lấy giá trị dự báo thời tiết"
   ]
  },
  {
   "cell_type": "code",
   "execution_count": 2,
   "metadata": {},
   "outputs": [
    {
     "name": "stdout",
     "output_type": "stream",
     "text": [
      "<mysql.connector.connection.MySQLConnection object at 0x7f61b83bbf60>\n"
     ]
    }
   ],
   "source": [
    "import mysql.connector\n",
    "\n",
    "mydb = mysql.connector.connect(\n",
    "    host=\"sv-procon.uet.vnu.edu.vn\",\n",
    "    user=\"root\",\n",
    "    passwd=\"iotlab2018\",\n",
    "    database=\"irrigation_database\"\n",
    ")\n",
    "print(mydb)\n",
    "mycursor = mydb.cursor(buffered=True)\n",
    "\n",
    "import datetime\n",
    "datetime.time()\n",
    "class status:\n",
    "    def __init__(self,temperature,humidity):\n",
    "        self.temperature=temperature\n",
    "        self.humidity=humidity\n",
    "    def __str__(self):\n",
    "        return \"temp: %f, hum: %f\" % (self.temperature,self.humidity)\n",
    "def formatTime(dt):\n",
    "    return str(dt)\n",
    "def nextHour(dt):\n",
    "    return dt+datetime.timedelta(hours=1)\n",
    "def getWeatherForecastAtATimeByTime(dt):\n",
    "    mydb = mysql.connector.connect(\n",
    "    host=\"sv-procon.uet.vnu.edu.vn\",\n",
    "    user=\"root\",\n",
    "    passwd=\"iotlab2018\",\n",
    "    database=\"irrigation_database\")\n",
    "    mycursor = mydb.cursor(buffered=True)\n",
    "    print(\"querry %s\"%str(dt))\n",
    "    mycursor.execute(\"select WeatherForecastID from WeatherForecasts where CurrentTime = '%s'\" %str(dt))\n",
    "    wfid = mycursor.fetchone()\n",
    "#     print(wfid)\n",
    "    mycursor.execute(\"select Temperature, RelativeHumidity from WeatherForecastAtATimes where WeatherForecastID=%d\" %wfid)\n",
    "    ret = []\n",
    "    result = mycursor.fetchall()\n",
    "#     print(result)\n",
    "    for i in range(len(result)):\n",
    "        temp = status(result[i][0],result[i][1])\n",
    "#         print(temp)\n",
    "        ret.append(temp)\n",
    "    return ret"
   ]
  },
  {
   "cell_type": "markdown",
   "metadata": {},
   "source": [
    "## Khởi tạo 2 model cho việc nước tăng và nước giảm"
   ]
  },
  {
   "cell_type": "markdown",
   "metadata": {},
   "source": [
    "### Mô hình độ ẩm đất tăng"
   ]
  },
  {
   "cell_type": "code",
   "execution_count": 3,
   "metadata": {},
   "outputs": [],
   "source": [
    "class IncreaseModel:\n",
    "    increaseDSoilMoisture = 1.2\n",
    "    def getSoilMoisture(self,currentSM, periodTime):\n",
    "        ret = currentSM+periodTime*self.increaseDSoilMoisture\n",
    "        if ret >100:\n",
    "            return 100\n",
    "        return currentSM+periodTime*self.increaseDSoilMoisture\n",
    "    def getPeriodTime(self,currentSM, destSM):\n",
    "        if(destSM<currentSM):\n",
    "            return -1\n",
    "        return (destSM-currentSM)/self.increaseDSoilMoisture"
   ]
  },
  {
   "cell_type": "markdown",
   "metadata": {},
   "source": [
    "### Mô hình độ ẩm đất giảm"
   ]
  },
  {
   "cell_type": "code",
   "execution_count": 4,
   "metadata": {},
   "outputs": [
    {
     "name": "stderr",
     "output_type": "stream",
     "text": [
      "Using TensorFlow backend.\n"
     ]
    },
    {
     "name": "stdout",
     "output_type": "stream",
     "text": [
      "WARNING:tensorflow:From /home/caothang/Documents/ky8/learnML/learnML/lib/python3.6/site-packages/keras/backend/tensorflow_backend.py:71: The name tf.get_default_graph is deprecated. Please use tf.compat.v1.get_default_graph instead.\n",
      "\n",
      "WARNING:tensorflow:From /home/caothang/Documents/ky8/learnML/learnML/lib/python3.6/site-packages/keras/backend/tensorflow_backend.py:514: The name tf.placeholder is deprecated. Please use tf.compat.v1.placeholder instead.\n",
      "\n",
      "WARNING:tensorflow:From /home/caothang/Documents/ky8/learnML/learnML/lib/python3.6/site-packages/keras/backend/tensorflow_backend.py:4053: The name tf.random_normal is deprecated. Please use tf.random.normal instead.\n",
      "\n",
      "WARNING:tensorflow:From /home/caothang/Documents/ky8/learnML/learnML/lib/python3.6/site-packages/keras/backend/tensorflow_backend.py:130: The name tf.placeholder_with_default is deprecated. Please use tf.compat.v1.placeholder_with_default instead.\n",
      "\n",
      "WARNING:tensorflow:From /home/caothang/Documents/ky8/learnML/learnML/lib/python3.6/site-packages/keras/backend/tensorflow_backend.py:3363: calling dropout (from tensorflow.python.ops.nn_ops) with keep_prob is deprecated and will be removed in a future version.\n",
      "Instructions for updating:\n",
      "Please use `rate` instead of `keep_prob`. Rate should be set to `rate = 1 - keep_prob`.\n",
      "WARNING:tensorflow:From /home/caothang/Documents/ky8/learnML/learnML/lib/python3.6/site-packages/keras/backend/tensorflow_backend.py:4076: The name tf.random_uniform is deprecated. Please use tf.random.uniform instead.\n",
      "\n",
      "WARNING:tensorflow:From /home/caothang/Documents/ky8/learnML/learnML/lib/python3.6/site-packages/keras/optimizers.py:757: The name tf.train.Optimizer is deprecated. Please use tf.compat.v1.train.Optimizer instead.\n",
      "\n"
     ]
    }
   ],
   "source": [
    "from keras.models import load_model\n",
    "import numpy as np\n",
    "max_soilmoisture = 100\n",
    "min_soilmoisture = 0\n",
    "max_humidity = 100\n",
    "min_humidity = 0\n",
    "max_temperature = 50\n",
    "min_temperature = 10\n",
    "max_nextSoilMoisture = 100\n",
    "min_nextSoilMoisture = 0\n",
    "\n",
    "def scaleData(min_value, max_value, min_range, max_range, value):\n",
    "    return min_range+((value-min_value)*(max_range-min_range))/(max_value-min_value)\n",
    "def scaleDatas(min_value, max_value, min_range, max_range, values):\n",
    "    values_ret=[]\n",
    "    for i in range(len(values)):\n",
    "        values_ret.append(scaleData(min_value, max_value, min_range, max_range, values[i]));\n",
    "    return values_ret\n",
    "decreaseModel = load_model(\"eva_hourly.h5\")\n",
    "def nextSoilMoistureAfterAnHour(currentSoilMoisture, wfat):\n",
    "    scaleCurrentSoilMoisture=scaleData(min_soilmoisture,max_soilmoisture,0,1,currentSoilMoisture)\n",
    "    scaleTemperature = scaleData(min_temperature,max_temperature,0,1,wfat.temperature)\n",
    "    scaleHumidity = scaleData(min_humidity,max_humidity,0,1,wfat.humidity)\n",
    "    nextSoilMoisture = decreaseModel.predict(np.array([[scaleCurrentSoilMoisture, scaleHumidity, scaleTemperature]]))\n",
    "    ret = scaleData(0,1,min_soilmoisture,max_soilmoisture,nextSoilMoisture)\n",
    "    return ret"
   ]
  },
  {
   "cell_type": "markdown",
   "metadata": {},
   "source": [
    "## Giải thuật tưới MPC"
   ]
  },
  {
   "cell_type": "code",
   "execution_count": 5,
   "metadata": {},
   "outputs": [],
   "source": [
    "wateringTimeLevel = [0,1,2,3]\n",
    "increaseModel = IncreaseModel()\n",
    "lostWaterTime = 0\n",
    "minLostWaterTime = 9999999\n",
    "solution = [0,0,0,0,0,0,0,0,0,0,0,0]\n",
    "minSolution = [0,0,0,0,0,0,0,0,0,0,0,0]\n",
    "upperThreshold = 80\n",
    "lowerThreshold = 60\n",
    "def init():\n",
    "    global lostWaterTime\n",
    "    global minLostWaterTime\n",
    "    global solution\n",
    "    global minSolution\n",
    "    global upperThreshold\n",
    "    global lowerThreshold\n",
    "    lostWaterTime = 0\n",
    "    minLostWaterTime = 9999999\n",
    "    solution = [0,0,0,0,0,0,0,0,0,0,0,0]\n",
    "    minSolution = [0,0,0,0,0,0,0,0,0,0,0,0]\n",
    "    upperThreshold = 80\n",
    "    lowerThreshold = 60\n",
    "def watering(soilMoisture, lostWaterTime, periodTime):\n",
    "#     print(\"before: %f\" %currentSoilMoisture)\n",
    "    temp = increaseModel.getSoilMoisture(soilMoisture,periodTime)\n",
    "    soilMoisture=temp\n",
    "#     print(\"after: %f\" %currentSoilMoisture)\n",
    "    lostWaterTime+=periodTime\n",
    "    return soilMoisture, lostWaterTime\n",
    "def resetWatering(resetSoilMoisture, lostWaterTime, periodTime):\n",
    "    soilMoisture = resetSoilMoisture\n",
    "    lostWaterTime-=periodTime\n",
    "    return soilMoisture, lostWaterTime\n",
    "def isSatisfyCondition(soilMoisture, minLostWaterTime):\n",
    "    global lowerThreshold, upperThreshold\n",
    "    if lostWaterTime>minLostWaterTime:\n",
    "#         print(\"bad\")\n",
    "        return False\n",
    "    if soilMoisture>upperThreshold or soilMoisture<lowerThreshold:\n",
    "#         print(\"outside\")\n",
    "        return False\n",
    "    return True\n",
    "\n",
    "# tim lượng nước tưới trong 12 h tới tối ưu và k vi phạm ràng buộc\n",
    "def calWatering(soilMoisture):\n",
    "    global lostWater,lostWaterTime,minSolution,solution,wateringLevel, minLostWaterTime, minLostWater\n",
    "    if index == 12:\n",
    "        \n",
    "        if lostWaterTime < minLostWaterTime:\n",
    "            minLostWaterTime = lostWaterTime\n",
    "            minSolution = solution.copy()\n",
    "            print(\"solution: \")\n",
    "            print(minSolution)\n",
    "    else:\n",
    "        for t in wateringTimeLevel:\n",
    "#             print(\"index: %d, w: %d\"% (index,w))\n",
    "            resetSoilMoisture = soilMoisture\n",
    "#             print(\"before: %f\" %soilMoisture)\n",
    "            soilMoisture = watering(soilMoisture, t)\n",
    "            solution[index] = t\n",
    "            \n",
    "            soilMoisture=nextSoilMoistureAfterAnHour(soilMoisture,wfats[index])\n",
    "#             print(\"after: %f \" %soilMoisture)\n",
    "            if(not isSatisfyCondition(soilMoisture)):\n",
    "                soilMoisture = resetWatering(t,resetSoilMoisture)\n",
    "                continue\n",
    "            calWatering(soilMoisture, index+1)\n",
    "            soilMoisture = resetWatering(t,resetSoilMoisture)\n",
    "    \n",
    "def selectWatering(soilMoisture, startTime):\n",
    "#     print(\"select Watering - soilMoisture: %f\"%soilMoisture)\n",
    "    wfats = getWeatherForecastAtATimeByTime(startTime)\n",
    "    calWatering(soilMoisture)\n",
    "    print(minSolution)\n",
    "    return minSolution[0]\n"
   ]
  },
  {
   "cell_type": "code",
   "execution_count": 9,
   "metadata": {},
   "outputs": [
    {
     "name": "stdout",
     "output_type": "stream",
     "text": [
      "querry 2020-05-03 06:00:00\n",
      "querry 2020-05-03 07:00:00\n",
      "querry 2020-05-03 08:00:00\n",
      "querry 2020-05-03 09:00:00\n",
      "querry 2020-05-03 10:00:00\n",
      "querry 2020-05-03 11:00:00\n",
      "querry 2020-05-03 12:00:00\n",
      "querry 2020-05-03 13:00:00\n",
      "querry 2020-05-03 14:00:00\n",
      "querry 2020-05-03 15:00:00\n",
      "querry 2020-05-03 16:00:00\n",
      "querry 2020-05-03 17:00:00\n",
      "querry 2020-05-03 18:00:00\n",
      "querry 2020-05-03 19:00:00\n",
      "querry 2020-05-03 20:00:00\n",
      "querry 2020-05-03 21:00:00\n",
      "querry 2020-05-03 22:00:00\n",
      "querry 2020-05-03 23:00:00\n",
      "querry 2020-05-04 00:00:00\n",
      "querry 2020-05-04 01:00:00\n",
      "querry 2020-05-04 02:00:00\n",
      "querry 2020-05-04 03:00:00\n",
      "querry 2020-05-04 04:00:00\n",
      "querry 2020-05-04 05:00:00\n",
      "querry 2020-05-04 06:00:00\n",
      "querry 2020-05-04 07:00:00\n",
      "querry 2020-05-04 08:00:00\n",
      "querry 2020-05-04 09:00:00\n",
      "querry 2020-05-04 10:00:00\n",
      "querry 2020-05-04 11:00:00\n",
      "querry 2020-05-04 12:00:00\n",
      "querry 2020-05-04 13:00:00\n",
      "querry 2020-05-04 14:00:00\n",
      "querry 2020-05-04 15:00:00\n",
      "querry 2020-05-04 16:00:00\n",
      "querry 2020-05-04 17:00:00\n",
      "querry 2020-05-04 18:00:00\n",
      "querry 2020-05-04 19:00:00\n",
      "querry 2020-05-04 20:00:00\n",
      "querry 2020-05-04 21:00:00\n",
      "querry 2020-05-04 22:00:00\n",
      "querry 2020-05-04 23:00:00\n",
      "querry 2020-05-05 00:00:00\n",
      "querry 2020-05-05 01:00:00\n",
      "querry 2020-05-05 02:00:00\n",
      "querry 2020-05-05 03:00:00\n",
      "querry 2020-05-05 04:00:00\n",
      "querry 2020-05-05 05:00:00\n",
      "[[63.0, datetime.datetime(2020, 5, 3, 6, 0), 0], [61.90897750854492, datetime.datetime(2020, 5, 3, 7, 0), 0], [61.101661682128906, datetime.datetime(2020, 5, 3, 8, 0), 0], [60.46550369262695, datetime.datetime(2020, 5, 3, 9, 0), 0], [59.888614654541016, datetime.datetime(2020, 5, 3, 10, 0), 0], [80, datetime.datetime(2020, 5, 3, 10, 0, 16, 759488), 16.759487787882488], [77.52196502685547, datetime.datetime(2020, 5, 3, 11, 0), 0], [75.34290313720703, datetime.datetime(2020, 5, 3, 12, 0), 0], [73.4084243774414, datetime.datetime(2020, 5, 3, 13, 0), 0], [71.66365051269531, datetime.datetime(2020, 5, 3, 14, 0), 0], [70.133544921875, datetime.datetime(2020, 5, 3, 15, 0), 0], [68.7716293334961, datetime.datetime(2020, 5, 3, 16, 0), 0], [67.5177001953125, datetime.datetime(2020, 5, 3, 17, 0), 0], [66.3680648803711, datetime.datetime(2020, 5, 3, 18, 0), 0], [65.45806884765625, datetime.datetime(2020, 5, 3, 19, 0), 0], [64.48863983154297, datetime.datetime(2020, 5, 3, 20, 0), 0], [63.35773468017578, datetime.datetime(2020, 5, 3, 21, 0), 0], [62.20284652709961, datetime.datetime(2020, 5, 3, 22, 0), 0], [60.72391128540039, datetime.datetime(2020, 5, 3, 23, 0), 0], [59.0914306640625, datetime.datetime(2020, 5, 4, 0, 0), 0], [80, datetime.datetime(2020, 5, 4, 0, 0, 17, 423808), 17.423807779947918], [77.72380828857422, datetime.datetime(2020, 5, 4, 1, 0), 0], [75.63137817382812, datetime.datetime(2020, 5, 4, 2, 0), 0], [73.74427032470703, datetime.datetime(2020, 5, 4, 3, 0), 0], [72.02115631103516, datetime.datetime(2020, 5, 4, 4, 0), 0], [70.32770538330078, datetime.datetime(2020, 5, 4, 5, 0), 0], [68.64173126220703, datetime.datetime(2020, 5, 4, 6, 0), 0], [67.1578140258789, datetime.datetime(2020, 5, 4, 7, 0), 0], [66.10186004638672, datetime.datetime(2020, 5, 4, 8, 0), 0], [65.28358459472656, datetime.datetime(2020, 5, 4, 9, 0), 0], [64.47441864013672, datetime.datetime(2020, 5, 4, 10, 0), 0], [63.73166275024414, datetime.datetime(2020, 5, 4, 11, 0), 0], [63.09745407104492, datetime.datetime(2020, 5, 4, 12, 0), 0], [62.62044906616211, datetime.datetime(2020, 5, 4, 13, 0), 0], [62.26118087768555, datetime.datetime(2020, 5, 4, 14, 0), 0], [62.09377670288086, datetime.datetime(2020, 5, 4, 15, 0), 0], [61.89280700683594, datetime.datetime(2020, 5, 4, 16, 0), 0], [61.4216194152832, datetime.datetime(2020, 5, 4, 17, 0), 0], [60.92970275878906, datetime.datetime(2020, 5, 4, 18, 0), 0], [60.249351501464844, datetime.datetime(2020, 5, 4, 19, 0), 0], [58.873069763183594, datetime.datetime(2020, 5, 4, 20, 0), 0], [80, datetime.datetime(2020, 5, 4, 20, 0, 17, 605775), 17.605775197347008], [77.69590759277344, datetime.datetime(2020, 5, 4, 21, 0), 0], [75.5529556274414, datetime.datetime(2020, 5, 4, 22, 0), 0], [73.64915466308594, datetime.datetime(2020, 5, 4, 23, 0), 0], [71.94413757324219, datetime.datetime(2020, 5, 5, 0, 0), 0], [70.41642761230469, datetime.datetime(2020, 5, 5, 1, 0), 0], [69.02694702148438, datetime.datetime(2020, 5, 5, 2, 0), 0], [67.68571472167969, datetime.datetime(2020, 5, 5, 3, 0), 0], [66.54579162597656, datetime.datetime(2020, 5, 5, 4, 0), 0], [65.59796142578125, datetime.datetime(2020, 5, 5, 5, 0), 0]]\n"
     ]
    }
   ],
   "source": [
    "startTime = datetime.datetime(2020,5,3,6,0,0)\n",
    "soilMoisture = 63\n",
    "soilMoisturesAndTimes = []\n",
    "\n",
    "increaseModel = IncreaseModel()\n",
    "\n",
    "for i in range(48):\n",
    "    soilMoisture=float(soilMoisture)\n",
    "    soilMoisturesAndTimes.append([soilMoisture,startTime,0])\n",
    "    if soilMoisture<lowerThreshold:\n",
    "        t=increaseModel.getPeriodTime(currentSM=soilMoisture,destSM=upperThreshold)\n",
    "#         print(t)\n",
    "        t=float(t)\n",
    "#         print(t)\n",
    "        nextTime=startTime+datetime.timedelta(seconds=t)\n",
    "        soilMoisturesAndTimes.append([upperThreshold,nextTime,t])\n",
    "        soilMoisture=upperThreshold\n",
    "    wfats = getWeatherForecastAtATimeByTime(startTime)\n",
    "    soilMoisture=nextSoilMoistureAfterAnHour(currentSoilMoisture=soilMoisture,wfat=wfats[0])\n",
    "    startTime=nextHour(startTime)\n",
    "print(soilMoisturesAndTimes)"
   ]
  },
  {
   "cell_type": "code",
   "execution_count": 10,
   "metadata": {},
   "outputs": [
    {
     "data": {
      "text/plain": [
       "[<matplotlib.lines.Line2D at 0x7f6130a28da0>]"
      ]
     },
     "execution_count": 10,
     "metadata": {},
     "output_type": "execute_result"
    },
    {
     "data": {
      "image/png": "[encoded data removed]",
      "text/plain": [
       "<Figure size 432x288 with 1 Axes>"
      ]
     },
     "metadata": {},
     "output_type": "display_data"
    }
   ],
   "source": [
    "import matplotlib.pyplot as plt\n",
    "temp = np.array(soilMoisturesAndTimes).transpose()\n",
    "plt.plot(temp[1],temp[0])"
   ]
  },
  {
   "cell_type": "code",
   "execution_count": 11,
   "metadata": {},
   "outputs": [
    {
     "name": "stdout",
     "output_type": "stream",
     "text": [
      "[0, 0, 0, 0, 0, 16.759487787882488, 16.759487787882488, 16.759487787882488, 16.759487787882488, 16.759487787882488, 16.759487787882488, 16.759487787882488, 16.759487787882488, 16.759487787882488, 16.759487787882488, 16.759487787882488, 16.759487787882488, 16.759487787882488, 16.759487787882488, 16.759487787882488, 34.183295567830406, 34.183295567830406, 34.183295567830406, 34.183295567830406, 34.183295567830406, 34.183295567830406, 34.183295567830406, 34.183295567830406, 34.183295567830406, 34.183295567830406, 34.183295567830406, 34.183295567830406, 34.183295567830406, 34.183295567830406, 34.183295567830406, 34.183295567830406, 34.183295567830406, 34.183295567830406, 34.183295567830406, 34.183295567830406, 34.183295567830406, 51.789070765177414, 51.789070765177414, 51.789070765177414, 51.789070765177414, 51.789070765177414, 51.789070765177414, 51.789070765177414, 51.789070765177414, 51.789070765177414, 51.789070765177414]\n"
     ]
    }
   ],
   "source": [
    "sumTime=[]\n",
    "sumTime.append(temp[2][0])\n",
    "for i in range(1,len(temp[2])):\n",
    "    sumTime.append(sumTime[i-1]+temp[2][i])\n",
    "print(sumTime)\n",
    "# print((temp[0]))"
   ]
  },
  {
   "cell_type": "code",
   "execution_count": 12,
   "metadata": {},
   "outputs": [
    {
     "data": {
      "text/plain": [
       "[<matplotlib.lines.Line2D at 0x7f61309a3550>]"
      ]
     },
     "execution_count": 12,
     "metadata": {},
     "output_type": "execute_result"
    },
    {
     "data": {
      "image/png": "[encoded data removed]",
      "text/plain": [
       "<Figure size 432x288 with 1 Axes>"
      ]
     },
     "metadata": {},
     "output_type": "display_data"
    }
   ],
   "source": [
    "plt.plot(sumTime)"
   ]
  },
  {
   "cell_type": "code",
   "execution_count": 13,
   "metadata": {},
   "outputs": [],
   "source": [
    "import pandas as pd\n",
    "soilMoistureFolowTimeByONOFF = pd.DataFrame(temp.transpose(),columns=['soil moisture','datetime','amount of watering'])\n",
    "soilMoistureFolowTimeByONOFF.to_csv(\"soil_moisture_on_off.csv\")"
   ]
  },
  {
   "cell_type": "code",
   "execution_count": null,
   "metadata": {},
   "outputs": [],
   "source": []
  }
 ],
 "metadata": {
  "kernelspec": {
   "display_name": "Python 3",
   "language": "python",
   "name": "python3"
  },
  "language_info": {
   "codemirror_mode": {
    "name": "ipython",
    "version": 3
   },
   "file_extension": ".py",
   "mimetype": "text/x-python",
   "name": "python",
   "nbconvert_exporter": "python",
   "pygments_lexer": "ipython3",
   "version": "3.6.9"
  }
 },
 "nbformat": 4,
 "nbformat_minor": 2
}
